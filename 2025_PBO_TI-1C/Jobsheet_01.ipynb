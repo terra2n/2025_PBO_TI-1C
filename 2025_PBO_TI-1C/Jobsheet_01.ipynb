{
  "nbformat": 4,
  "nbformat_minor": 0,
  "metadata": {
    "colab": {
      "provenance": [],
      "authorship_tag": "ABX9TyP9gw41UL9wlhad5GQoHDSB",
      "include_colab_link": true
    },
    "kernelspec": {
      "name": "python3",
      "display_name": "Python 3"
    },
    "language_info": {
      "name": "python"
    }
  },
  "cells": [
    {
      "cell_type": "markdown",
      "metadata": {
        "id": "view-in-github",
        "colab_type": "text"
      },
      "source": [
        "<a href=\"https://colab.research.google.com/github/terra2n/2025_PBO_TI-1C/blob/main/Jobsheet_01.ipynb\" target=\"_parent\"><img src=\"https://colab.research.google.com/assets/colab-badge.svg\" alt=\"Open In Colab\"/></a>"
      ]
    },
    {
      "cell_type": "markdown",
      "source": [
        "# Tipe Dasar Data\n"
      ],
      "metadata": {
        "id": "FMi8y3PZPh_1"
      }
    },
    {
      "source": [
        "# 1. Number (int, float, complex)\n",
        "\n",
        "# Integer (int) : bilangan bulat tanpa desimal.\n",
        "angka_int = 10\n",
        "print(\"angka_int =\", angka_int, \"->\", type(angka_int))\n",
        "display(Markdown(\"**Integer (int):** Tipe data yang merepresentasikan bilangan bulat, seperti 10, -5, 0, dan sebagainya. Tidak memiliki bagian desimal.\"))\n",
        "\n",
        "# Float : bilangan yang memiliki desimal.\n",
        "angka_float = 3.14\n",
        "print(\"angka_float =\", angka_float, \"->\", type(angka_float))\n",
        "display(Markdown(\"**Float:** Tipe data yang merepresentasikan bilangan yang memiliki desimal atau pecahan, seperti 3.14, -2.5, 0.0, dan sebagainya.\"))\n",
        "\n",
        "# Complex : bilangan yang memiliki bagian real dan imajiner.\n",
        "angka_complex = 2 + 3j\n",
        "print(\"angka_complex =\", angka_complex, \"->\", type(angka_complex))\n",
        "display(Markdown(\"**Complex:** Tipe data yang merepresentasikan bilangan kompleks, yang memiliki bagian real dan imajiner. Bilangan imajiner di Python dilambangkan dengan huruf `j`.\"))"
      ],
      "cell_type": "code",
      "metadata": {
        "colab": {
          "base_uri": "https://localhost:8080/",
          "height": 209
        },
        "id": "k9w9zoISr_-M",
        "outputId": "9c4782b9-fcf9-4346-f22f-b709fbcaf664"
      },
      "execution_count": null,
      "outputs": [
        {
          "output_type": "stream",
          "name": "stdout",
          "text": [
            "angka_int = 10 -> <class 'int'>\n"
          ]
        },
        {
          "output_type": "display_data",
          "data": {
            "text/plain": [
              "<IPython.core.display.Markdown object>"
            ],
            "text/markdown": "**Integer (int):** Tipe data yang merepresentasikan bilangan bulat, seperti 10, -5, 0, dan sebagainya. Tidak memiliki bagian desimal."
          },
          "metadata": {}
        },
        {
          "output_type": "stream",
          "name": "stdout",
          "text": [
            "angka_float = 3.14 -> <class 'float'>\n"
          ]
        },
        {
          "output_type": "display_data",
          "data": {
            "text/plain": [
              "<IPython.core.display.Markdown object>"
            ],
            "text/markdown": "**Float:** Tipe data yang merepresentasikan bilangan yang memiliki desimal atau pecahan, seperti 3.14, -2.5, 0.0, dan sebagainya."
          },
          "metadata": {}
        },
        {
          "output_type": "stream",
          "name": "stdout",
          "text": [
            "angka_complex = (2+3j) -> <class 'complex'>\n"
          ]
        },
        {
          "output_type": "display_data",
          "data": {
            "text/plain": [
              "<IPython.core.display.Markdown object>"
            ],
            "text/markdown": "**Complex:** Tipe data yang merepresentasikan bilangan kompleks, yang memiliki bagian real dan imajiner. Bilangan imajiner di Python dilambangkan dengan huruf `j`."
          },
          "metadata": {}
        }
      ]
    },
    {
      "source": [
        "# 2. Boolean\n",
        "is_active = True\n",
        "print(\"is_active =\", is_active, \"->\", type(is_active))\n",
        "display(Markdown(\"**Boolean:** Tipe data yang hanya memiliki dua nilai, yaitu `True` atau `False`. Biasa digunakan untuk merepresentasikan kondisi logika atau status.\"))"
      ],
      "cell_type": "code",
      "metadata": {
        "colab": {
          "base_uri": "https://localhost:8080/",
          "height": 81
        },
        "id": "naiYnV7NsaXE",
        "outputId": "3da33ca7-ea7d-4a70-b154-742ce133567e"
      },
      "execution_count": null,
      "outputs": [
        {
          "output_type": "stream",
          "name": "stdout",
          "text": [
            "is_active = True -> <class 'bool'>\n"
          ]
        },
        {
          "output_type": "display_data",
          "data": {
            "text/plain": [
              "<IPython.core.display.Markdown object>"
            ],
            "text/markdown": "**Boolean:** Tipe data yang hanya memiliki dua nilai, yaitu `True` atau `False`. Biasa digunakan untuk merepresentasikan kondisi logika atau status."
          },
          "metadata": {}
        }
      ]
    },
    {
      "source": [
        "# 3. String\n",
        "teks = \"Hello, Python!\"\n",
        "print(\"teks =\", teks, \"->\", type(teks))\n",
        "display(Markdown(\"**String:** Tipe data yang digunakan untuk merepresentasikan teks atau urutan karakter.  String diapit oleh tanda kutip tunggal ('...') atau tanda kutip ganda (\\\"...\\\").\"))"
      ],
      "cell_type": "code",
      "metadata": {
        "colab": {
          "base_uri": "https://localhost:8080/",
          "height": 81
        },
        "id": "zA4WbUUAsmFD",
        "outputId": "babe8727-576c-4d88-b28f-c6b8e72af324"
      },
      "execution_count": null,
      "outputs": [
        {
          "output_type": "stream",
          "name": "stdout",
          "text": [
            "teks = Hello, Python! -> <class 'str'>\n"
          ]
        },
        {
          "output_type": "display_data",
          "data": {
            "text/plain": [
              "<IPython.core.display.Markdown object>"
            ],
            "text/markdown": "**String:** Tipe data yang digunakan untuk merepresentasikan teks atau urutan karakter.  String diapit oleh tanda kutip tunggal ('...') atau tanda kutip ganda (\"...\")."
          },
          "metadata": {}
        }
      ]
    },
    {
      "source": [
        "# 4. List\n",
        "# List adalah tipe data terurut dan dapat diubah (mutable)\n",
        "daftar_angka = [1, 2, 3, 4, 5]\n",
        "print(\"daftar_angka =\", daftar_angka, \"->\", type(daftar_angka))\n",
        "display(Markdown(\"**List:** Tipe data yang terurut dan dapat diubah (mutable). List didefinisikan dengan tanda kurung siku `[]` dan elemen-elemennya dipisahkan dengan koma.\"))"
      ],
      "cell_type": "code",
      "metadata": {
        "colab": {
          "base_uri": "https://localhost:8080/",
          "height": 81
        },
        "id": "hNKPE7vutBza",
        "outputId": "ec88c113-5524-4197-ed6b-bf2087989d26"
      },
      "execution_count": null,
      "outputs": [
        {
          "output_type": "stream",
          "name": "stdout",
          "text": [
            "daftar_angka = [1, 2, 3, 4, 5] -> <class 'list'>\n"
          ]
        },
        {
          "output_type": "display_data",
          "data": {
            "text/plain": [
              "<IPython.core.display.Markdown object>"
            ],
            "text/markdown": "**List:** Tipe data yang terurut dan dapat diubah (mutable). List didefinisikan dengan tanda kurung siku `[]` dan elemen-elemennya dipisahkan dengan koma."
          },
          "metadata": {}
        }
      ]
    },
    {
      "source": [
        "# 5. Tuple\n",
        "# Tuple adalah tipe data terurut tetapi tidak dapat diubah (immutable)\n",
        "koordinat = (10, 20)\n",
        "print(\"koordinat =\", koordinat, \"->\", type(koordinat))\n",
        "display(Markdown(\"**Tuple:** Tipe data yang terurut dan tidak dapat diubah (immutable). Tuple didefinisikan dengan tanda kurung `()` dan elemen-elemennya dipisahkan dengan koma.\"))"
      ],
      "cell_type": "code",
      "metadata": {
        "colab": {
          "base_uri": "https://localhost:8080/",
          "height": 81
        },
        "id": "KP5UZ3VCtgFO",
        "outputId": "5d42ba57-62c2-4caf-84db-b26ca6952cbf"
      },
      "execution_count": null,
      "outputs": [
        {
          "output_type": "stream",
          "name": "stdout",
          "text": [
            "koordinat = (10, 20) -> <class 'tuple'>\n"
          ]
        },
        {
          "output_type": "display_data",
          "data": {
            "text/plain": [
              "<IPython.core.display.Markdown object>"
            ],
            "text/markdown": "**Tuple:** Tipe data yang terurut dan tidak dapat diubah (immutable). Tuple didefinisikan dengan tanda kurung `()` dan elemen-elemennya dipisahkan dengan koma."
          },
          "metadata": {}
        }
      ]
    },
    {
      "source": [
        "# 6. Dictionary\n",
        "# Dictionary menyimpan data dalam pasangan key-value\n",
        "data_mahasiswa = {\n",
        "    \"nama\": \"Andi\",\n",
        "    \"nim\": \"A11.2022.12345\",\n",
        "    \"jurusan\": \"Teknik Informatika\"\n",
        "}\n",
        "print(\"data_mahasiswa =\", data_mahasiswa, \"->\", type(data_mahasiswa))\n",
        "display(Markdown(\"**Dictionary:** Tipe data yang menyimpan data dalam pasangan key-value. Dictionary didefinisikan dengan tanda kurung kurawal `{}`, key dan value dipisahkan oleh titik dua `:`, dan pasangan key-value dipisahkan oleh koma `,`.\"))"
      ],
      "cell_type": "code",
      "metadata": {
        "colab": {
          "base_uri": "https://localhost:8080/",
          "height": 101
        },
        "id": "lGzBSeMBt_1T",
        "outputId": "ffc48e1b-3172-45f9-c32f-72bd08e8c73b"
      },
      "execution_count": null,
      "outputs": [
        {
          "output_type": "stream",
          "name": "stdout",
          "text": [
            "data_mahasiswa = {'nama': 'Andi', 'nim': 'A11.2022.12345', 'jurusan': 'Teknik Informatika'} -> <class 'dict'>\n"
          ]
        },
        {
          "output_type": "display_data",
          "data": {
            "text/plain": [
              "<IPython.core.display.Markdown object>"
            ],
            "text/markdown": "**Dictionary:** Tipe data yang menyimpan data dalam pasangan key-value. Dictionary didefinisikan dengan tanda kurung kurawal `{}`, key dan value dipisahkan oleh titik dua `:`, dan pasangan key-value dipisahkan oleh koma `,`."
          },
          "metadata": {}
        }
      ]
    },
    {
      "source": [
        "# 7. Set\n",
        "# Set adalah tipe data yang tidak terurut, unik (tiap elemen hanya muncul 1x)\n",
        "himpunan_angka = {1, 2, 3, 2, 1}\n",
        "print(\"himpunan_angka =\", himpunan_angka, \"->\", type(himpunan_angka))\n",
        "display(Markdown(\"**Set:** Tipe data yang tidak terurut dan setiap elemennya unik (hanya muncul sekali). Set didefinisikan dengan tanda kurung kurawal `{}` dan elemen-elemennya dipisahkan dengan koma.\"))"
      ],
      "cell_type": "code",
      "metadata": {
        "colab": {
          "base_uri": "https://localhost:8080/",
          "height": 81
        },
        "id": "-eQhzpNVuYXj",
        "outputId": "fbf29fe8-a0e3-4967-b3a3-7e4efe579be5"
      },
      "execution_count": null,
      "outputs": [
        {
          "output_type": "stream",
          "name": "stdout",
          "text": [
            "himpunan_angka = {1, 2, 3} -> <class 'set'>\n"
          ]
        },
        {
          "output_type": "display_data",
          "data": {
            "text/plain": [
              "<IPython.core.display.Markdown object>"
            ],
            "text/markdown": "**Set:** Tipe data yang tidak terurut dan setiap elemennya unik (hanya muncul sekali). Set didefinisikan dengan tanda kurung kurawal `{}` dan elemen-elemennya dipisahkan dengan koma."
          },
          "metadata": {}
        }
      ]
    },
    {
      "source": [
        "# 8. Contoh penggunaan konversi tipe data\n",
        "nilai_str = \"100\"\n",
        "print(\"\\nnilai_str =\", nilai_str, \"->\", type(nilai_str))\n",
        "nilai_int = int(nilai_str)  # konversi string ke integer\n",
        "print(\"nilai_int =\", nilai_int, \"->\", type(nilai_int))\n",
        "display(Markdown(\"**Konversi Tipe Data:** Proses mengubah tipe data dari satu tipe ke tipe lainnya. \\n  **Contoh:** Pada kode di atas, `int(nilai_str)` digunakan untuk mengkonversi variabel `nilai_str` (yang bertipe string) menjadi integer dan menyimpannya dalam variabel `nilai_int`.\"))"
      ],
      "cell_type": "code",
      "metadata": {
        "colab": {
          "base_uri": "https://localhost:8080/",
          "height": 133
        },
        "id": "S7_hCKtqujkA",
        "outputId": "9f747913-d562-474a-d9d5-e3e22812e02a"
      },
      "execution_count": null,
      "outputs": [
        {
          "output_type": "stream",
          "name": "stdout",
          "text": [
            "\n",
            "nilai_str = 100 -> <class 'str'>\n",
            "nilai_int = 100 -> <class 'int'>\n"
          ]
        },
        {
          "output_type": "display_data",
          "data": {
            "text/plain": [
              "<IPython.core.display.Markdown object>"
            ],
            "text/markdown": "**Konversi Tipe Data:** Proses mengubah tipe data dari satu tipe ke tipe lainnya. \n  **Contoh:** Pada kode di atas, `int(nilai_str)` digunakan untuk mengkonversi variabel `nilai_str` (yang bertipe string) menjadi integer dan menyimpannya dalam variabel `nilai_int`."
          },
          "metadata": {}
        }
      ]
    },
    {
      "cell_type": "markdown",
      "source": [
        "# Variabel dan Operasi dasar"
      ],
      "metadata": {
        "id": "T8PYWwx5T-hS"
      }
    },
    {
      "source": [
        "# 1. Pendeklarasian Variabel\n",
        "nama = \"Budi\"\n",
        "umur = 20\n",
        "tinggi = 170.5\n",
        "is_student = True\n",
        "print(\"Nama =\", nama)\n",
        "print(\"Umur =\", umur)\n",
        "print(\"Tinggi =\", tinggi, \"cm\")\n",
        "print(\"Mahasiswa =\", is_student)\n",
        "\n",
        "# Python tidak memerlukan deklarasi tipe data secara eksplisit.\n",
        "# Tipe data variabel akan menyesuaikan nilai yang diberikan.\n",
        "\n",
        "display(Markdown(\"\"\"\n",
        "**Pendeklarasian Variabel di Python:**\n",
        "\n",
        "Di Python, Anda tidak perlu mendeklarasikan tipe data variabel secara eksplisit. Tipe data variabel akan ditentukan secara otomatis berdasarkan nilai yang diberikan.\n",
        "\n",
        "**Contoh:**\n",
        "\n",
        "- `nama = \"Budi\"`: Variabel `nama` akan bertipe data string karena diberi nilai string `\"Budi\"`.\n",
        "- `umur = 20`: Variabel `umur` akan bertipe data integer karena diberi nilai integer `20`.\n",
        "- `tinggi = 170.5`: Variabel `tinggi` akan bertipe data float karena diberi nilai float `170.5`.\n",
        "- `is_student = True`: Variabel `is_student` akan bertipe data boolean karena diberi nilai boolean `True`.\n",
        "\n",
        "Kode di atas mendeklarasikan empat variabel dengan tipe data yang berbeda dan kemudian mencetak nilai dari masing-masing variabel.\n",
        "\"\"\"))"
      ],
      "cell_type": "code",
      "metadata": {
        "colab": {
          "base_uri": "https://localhost:8080/",
          "height": 296
        },
        "id": "fnyLjfRuuzyV",
        "outputId": "444d0146-4b49-429f-b8c0-9dcb30521dad"
      },
      "execution_count": null,
      "outputs": [
        {
          "output_type": "stream",
          "name": "stdout",
          "text": [
            "Nama = Budi\n",
            "Umur = 20\n",
            "Tinggi = 170.5 cm\n",
            "Mahasiswa = True\n"
          ]
        },
        {
          "output_type": "display_data",
          "data": {
            "text/plain": [
              "<IPython.core.display.Markdown object>"
            ],
            "text/markdown": "\n**Pendeklarasian Variabel di Python:**\n\nDi Python, Anda tidak perlu mendeklarasikan tipe data variabel secara eksplisit. Tipe data variabel akan ditentukan secara otomatis berdasarkan nilai yang diberikan. \n\n**Contoh:**\n\n- `nama = \"Budi\"`: Variabel `nama` akan bertipe data string karena diberi nilai string `\"Budi\"`.\n- `umur = 20`: Variabel `umur` akan bertipe data integer karena diberi nilai integer `20`.\n- `tinggi = 170.5`: Variabel `tinggi` akan bertipe data float karena diberi nilai float `170.5`.\n- `is_student = True`: Variabel `is_student` akan bertipe data boolean karena diberi nilai boolean `True`.\n\nKode di atas mendeklarasikan empat variabel dengan tipe data yang berbeda dan kemudian mencetak nilai dari masing-masing variabel.\n"
          },
          "metadata": {}
        }
      ]
    },
    {
      "source": [
        "# 2. Operasi Aritmetika\n",
        "a = 10\n",
        "b = 3\n",
        "\n",
        "# Penjelasan tentang operasi aritmetika\n",
        "display(Markdown(\"\"\"\n",
        "**Operasi Aritmetika di Python:**\n",
        "\n",
        "Operasi aritmetika digunakan untuk melakukan perhitungan matematika pada bilangan. Python mendukung berbagai operasi aritmetika, seperti penjumlahan, pengurangan, perkalian, pembagian, pembagian bulat, modulus (sisa bagi), dan pemangkatan.\n",
        "\n",
        "**Operator Aritmetika:**\n",
        "\n",
        "| Operator | Deskripsi |\n",
        "|---|---|\n",
        "| `+` | Penjumlahan |\n",
        "| `-` | Pengurangan |\n",
        "| `*` | Perkalian |\n",
        "| `/` | Pembagian (hasil float) |\n",
        "| `//` | Pembagian Bulat (hasil integer) |\n",
        "| `%` | Modulus (sisa bagi) |\n",
        "| `**` | Pemangkatan |\n",
        "\"\"\"))\n",
        "\n",
        "penjumlahan = a + b      # Tambah\n",
        "pengurangan = a - b      # Kurang\n",
        "perkalian = a * b        # Kali\n",
        "pembagian = a / b        # Bagi (hasil float)\n",
        "pembagian_bulat = a // b # Bagi (bulat)\n",
        "modulus = a % b          # Sisa bagi\n",
        "pangkat = a ** b         # Pemangkatan\n",
        "\n",
        "print(\"\\nOPERASI ARITMETIKA\")\n",
        "print(\"a =\", a, \", b =\", b)\n",
        "print(\"Penjumlahan =\", penjumlahan)\n",
        "print(\"Pengurangan =\", pengurangan)\n",
        "print(\"Perkalian =\", perkalian)\n",
        "print(\"Pembagian =\", pembagian)\n",
        "print(\"Pembagian Bulat =\", pembagian_bulat)\n",
        "print(\"Modulus =\", modulus)\n",
        "print(\"Pangkat =\", pangkat)"
      ],
      "cell_type": "code",
      "metadata": {
        "colab": {
          "base_uri": "https://localhost:8080/",
          "height": 553
        },
        "id": "tVUN2SonvC8m",
        "outputId": "e294ef50-a979-462c-df47-4db77f819be4"
      },
      "execution_count": null,
      "outputs": [
        {
          "output_type": "display_data",
          "data": {
            "text/plain": [
              "<IPython.core.display.Markdown object>"
            ],
            "text/markdown": "\n**Operasi Aritmetika di Python:**\n\nOperasi aritmetika digunakan untuk melakukan perhitungan matematika pada bilangan. Python mendukung berbagai operasi aritmetika, seperti penjumlahan, pengurangan, perkalian, pembagian, pembagian bulat, modulus (sisa bagi), dan pemangkatan.\n\n**Operator Aritmetika:**\n\n| Operator | Deskripsi |\n|---|---|\n| `+` | Penjumlahan |\n| `-` | Pengurangan |\n| `*` | Perkalian |\n| `/` | Pembagian (hasil float) |\n| `//` | Pembagian Bulat (hasil integer) |\n| `%` | Modulus (sisa bagi) |\n| `**` | Pemangkatan |\n"
          },
          "metadata": {}
        },
        {
          "output_type": "stream",
          "name": "stdout",
          "text": [
            "\n",
            "OPERASI ARITMETIKA\n",
            "a = 10 , b = 3\n",
            "Penjumlahan = 13\n",
            "Pengurangan = 7\n",
            "Perkalian = 30\n",
            "Pembagian = 3.3333333333333335\n",
            "Pembagian Bulat = 3\n",
            "Modulus = 1\n",
            "Pangkat = 1000\n"
          ]
        }
      ]
    },
    {
      "source": [
        "# 3. Operasi Perbandingan\n",
        "# Menghasilkan nilai Boolean (True/False)\n",
        "a = 10  # Asumsi nilai a dan b dari kode sebelumnya\n",
        "b = 3\n",
        "\n",
        "# Penjelasan tentang operasi perbandingan\n",
        "display(Markdown(\"\"\"\n",
        "**Operasi Perbandingan di Python:**\n",
        "\n",
        "Operasi perbandingan digunakan untuk membandingkan dua nilai. Hasil dari operasi perbandingan adalah nilai Boolean (`True` atau `False`).\n",
        "\n",
        "**Operator Perbandingan:**\n",
        "\n",
        "| Operator | Deskripsi |\n",
        "|---|---|\n",
        "| `>` | Lebih besar dari |\n",
        "| `<` | Kurang dari |\n",
        "| `==` | Sama dengan |\n",
        "| `!=` | Tidak sama dengan |\n",
        "| `>=` | Lebih besar dari atau sama dengan |\n",
        "| `<=` | Kurang dari atau sama dengan |\n",
        "\"\"\"))\n",
        "\n",
        "lebih_besar = a > b\n",
        "kurang_dari = a < b\n",
        "sama_dengan = a == b\n",
        "tidak_sama = a != b\n",
        "lebih_besar_sama = a >= b\n",
        "kurang_sama = a <= b\n",
        "\n",
        "print(\"\\nOPERASI PERBANDINGAN\")\n",
        "print(\"a > b =\", lebih_besar)\n",
        "print(\"a < b =\", kurang_dari)\n",
        "print(\"a == b =\", sama_dengan)\n",
        "print(\"a != b =\", tidak_sama)\n",
        "print(\"a >= b =\", lebih_besar_sama)\n",
        "print(\"a <= b =\", kurang_sama)  # Memperbaiki kesalahan: mbprint menjadi print"
      ],
      "cell_type": "code",
      "metadata": {
        "colab": {
          "base_uri": "https://localhost:8080/",
          "height": 470
        },
        "id": "kaWsGd-2vZ3x",
        "outputId": "780db668-14f9-4daf-a43b-7a44b8d28c94"
      },
      "execution_count": null,
      "outputs": [
        {
          "output_type": "display_data",
          "data": {
            "text/plain": [
              "<IPython.core.display.Markdown object>"
            ],
            "text/markdown": "\n**Operasi Perbandingan di Python:**\n\nOperasi perbandingan digunakan untuk membandingkan dua nilai. Hasil dari operasi perbandingan adalah nilai Boolean (`True` atau `False`).\n\n**Operator Perbandingan:**\n\n| Operator | Deskripsi |\n|---|---|\n| `>` | Lebih besar dari |\n| `<` | Kurang dari |\n| `==` | Sama dengan |\n| `!=` | Tidak sama dengan |\n| `>=` | Lebih besar dari atau sama dengan |\n| `<=` | Kurang dari atau sama dengan |\n"
          },
          "metadata": {}
        },
        {
          "output_type": "stream",
          "name": "stdout",
          "text": [
            "\n",
            "OPERASI PERBANDINGAN\n",
            "a > b = True\n",
            "a < b = False\n",
            "a == b = False\n",
            "a != b = True\n",
            "a >= b = True\n",
            "a <= b = False\n"
          ]
        }
      ]
    },
    {
      "source": [
        "# 4. Operasi Logika\n",
        "# and, or, not\n",
        "x = True\n",
        "y = False\n",
        "\n",
        "# Penjelasan tentang operasi logika\n",
        "display(Markdown(\"\"\"\n",
        "**Operasi Logika di Python:**\n",
        "\n",
        "Operasi logika digunakan untuk menggabungkan atau memodifikasi nilai Boolean (`True` atau `False`). Python memiliki tiga operator logika utama: `and`, `or`, dan `not`.\n",
        "\n",
        "**Tabel Kebenaran:**\n",
        "\n",
        "| Operator | Deskripsi | Contoh (x = True, y = False) | Hasil |\n",
        "|---|---|---|---|\n",
        "| `and` | Bernilai True jika kedua operand bernilai True | `x and y` | False |\n",
        "| `or` | Bernilai True jika setidaknya satu operand bernilai True | `x or y` | True |\n",
        "| `not` | Membalik nilai Boolean dari operand | `not x` | False |\n",
        "\"\"\"))\n",
        "\n",
        "logika_and = x and y\n",
        "logika_or = x or y\n",
        "logika_not_x = not x\n",
        "\n",
        "print(\"\\nOPERASI LOGIKA\")\n",
        "print(\"x =\", x, \", y =\", y)\n",
        "print(\"x and y =\", logika_and)\n",
        "print(\"x or y =\", logika_or)\n",
        "print(\"not x =\", logika_not_x)"
      ],
      "cell_type": "code",
      "metadata": {
        "colab": {
          "base_uri": "https://localhost:8080/",
          "height": 376
        },
        "id": "8vnxOtl_vsA7",
        "outputId": "b2307238-f861-427e-dab5-6f49f454ee79"
      },
      "execution_count": null,
      "outputs": [
        {
          "output_type": "display_data",
          "data": {
            "text/plain": [
              "<IPython.core.display.Markdown object>"
            ],
            "text/markdown": "\n**Operasi Logika di Python:**\n\nOperasi logika digunakan untuk menggabungkan atau memodifikasi nilai Boolean (`True` atau `False`). Python memiliki tiga operator logika utama: `and`, `or`, dan `not`.\n\n**Tabel Kebenaran:**\n\n| Operator | Deskripsi | Contoh (x = True, y = False) | Hasil |\n|---|---|---|---|\n| `and` | Bernilai True jika kedua operand bernilai True | `x and y` | False |\n| `or` | Bernilai True jika setidaknya satu operand bernilai True | `x or y` | True |\n| `not` | Membalik nilai Boolean dari operand | `not x` | False |\n"
          },
          "metadata": {}
        },
        {
          "output_type": "stream",
          "name": "stdout",
          "text": [
            "\n",
            "OPERASI LOGIKA\n",
            "x = True , y = False\n",
            "x and y = False\n",
            "x or y = True\n",
            "not x = False\n"
          ]
        }
      ]
    },
    {
      "source": [
        "# 5. Contoh penggunaan di dalam percabangan\n",
        "a = 10  # Asumsi nilai a dan b dari kode sebelumnya\n",
        "b = 3\n",
        "\n",
        "display(Markdown(\"\"\"\n",
        "**Contoh penggunaan operasi logika dalam percabangan `if-else`:**\n",
        "\n",
        "Kode ini menunjukkan contoh penggunaan operasi logika `and` dalam percabangan `if-else`.\n",
        "\n",
        "**Cara kerja:**\n",
        "\n",
        "1. **Kondisi:**  `if a > b and b > 0:` memeriksa dua kondisi:\n",
        "   - `a > b`: Apakah nilai `a` lebih besar dari `b`?\n",
        "   - `b > 0`: Apakah nilai `b` lebih besar dari 0?\n",
        "2. **`and`:** Operator `and` mengharuskan kedua kondisi bernilai `True` agar keseluruhan kondisi bernilai `True`.\n",
        "3. **Eksekusi blok `if`:** Jika kedua kondisi terpenuhi (bernilai `True`), maka blok kode di dalam `if` akan dieksekusi, yaitu mencetak pesan \"Kondisi terpenuhi: a lebih besar dari b, dan b masih positif.\".\n",
        "4. **Eksekusi blok `else`:** Jika salah satu atau kedua kondisi tidak terpenuhi (bernilai `False`), maka blok kode di dalam `else` akan dieksekusi, yaitu mencetak pesan \"Kondisi tidak terpenuhi atau b <= 0.\".\n",
        "\"\"\"))\n",
        "\n",
        "if a > b and b > 0:\n",
        "  print(\"\\nKondisi terpenuhi: a lebih besar dari b, dan b masih positif.\")\n",
        "else:\n",
        "  print(\"\\nKondisi tidak terpenuhi atau b <= 0.\")"
      ],
      "cell_type": "code",
      "metadata": {
        "colab": {
          "base_uri": "https://localhost:8080/",
          "height": 301
        },
        "id": "CLG_CvW2wlSg",
        "outputId": "afd88389-4ea5-462f-899b-e8b93342cf74"
      },
      "execution_count": null,
      "outputs": [
        {
          "output_type": "display_data",
          "data": {
            "text/plain": [
              "<IPython.core.display.Markdown object>"
            ],
            "text/markdown": "\n**Contoh penggunaan operasi logika dalam percabangan `if-else`:**\n\nKode ini menunjukkan contoh penggunaan operasi logika `and` dalam percabangan `if-else`. \n\n**Cara kerja:**\n\n1. **Kondisi:**  `if a > b and b > 0:` memeriksa dua kondisi:\n   - `a > b`: Apakah nilai `a` lebih besar dari `b`?\n   - `b > 0`: Apakah nilai `b` lebih besar dari 0?\n2. **`and`:** Operator `and` mengharuskan kedua kondisi bernilai `True` agar keseluruhan kondisi bernilai `True`.\n3. **Eksekusi blok `if`:** Jika kedua kondisi terpenuhi (bernilai `True`), maka blok kode di dalam `if` akan dieksekusi, yaitu mencetak pesan \"Kondisi terpenuhi: a lebih besar dari b, dan b masih positif.\".\n4. **Eksekusi blok `else`:** Jika salah satu atau kedua kondisi tidak terpenuhi (bernilai `False`), maka blok kode di dalam `else` akan dieksekusi, yaitu mencetak pesan \"Kondisi tidak terpenuhi atau b <= 0.\".\n"
          },
          "metadata": {}
        },
        {
          "output_type": "stream",
          "name": "stdout",
          "text": [
            "\n",
            "Kondisi terpenuhi: a lebih besar dari b, dan b masih positif.\n"
          ]
        }
      ]
    },
    {
      "cell_type": "markdown",
      "source": [
        "# Percabangan"
      ],
      "metadata": {
        "id": "wlJY0i-SXrR9"
      }
    },
    {
      "source": [
        "# 1. IF Sederhana\n",
        "# Program hanya mengeksekusi blok jika kondisinya True\n",
        "nilai = 85\n",
        "print(\"Contoh IF Sederhana:\")\n",
        "if nilai > 80:\n",
        "     print(\"Selamat! Anda lulus dengan nilai tinggi.\\n\")\n",
        "\n",
        "display(Markdown(\"\"\"\n",
        "**Pengertian IF Sederhana:**\n",
        "\n",
        "Pernyataan `if` sederhana digunakan untuk menjalankan blok kode **hanya jika** suatu kondisi bernilai `True`. Jika kondisi bernilai `False`, blok kode tersebut akan dilewati dan program akan melanjutkan eksekusi ke baris berikutnya setelah blok `if`.\n",
        "\n",
        "**Contoh:**\n",
        "\n",
        "Pada kode di atas, blok kode `print(\"Selamat! Anda lulus dengan nilai tinggi.\\\\n\")` hanya akan dijalankan jika `nilai` lebih besar dari 80. Jika `nilai` kurang dari atau sama dengan 80, blok kode tersebut tidak akan dijalankan.\n",
        "\"\"\"))"
      ],
      "cell_type": "code",
      "metadata": {
        "colab": {
          "base_uri": "https://localhost:8080/",
          "height": 208
        },
        "id": "2TBNBbntIal8",
        "outputId": "1c0e32e1-ce84-4f85-9e8c-4894b7933b7e"
      },
      "execution_count": null,
      "outputs": [
        {
          "output_type": "stream",
          "name": "stdout",
          "text": [
            "Contoh IF Sederhana:\n",
            "Selamat! Anda lulus dengan nilai tinggi.\n",
            "\n"
          ]
        },
        {
          "output_type": "display_data",
          "data": {
            "text/plain": [
              "<IPython.core.display.Markdown object>"
            ],
            "text/markdown": "\n**Pengertian IF Sederhana:**\n\nPernyataan `if` sederhana digunakan untuk menjalankan blok kode **hanya jika** suatu kondisi bernilai `True`. Jika kondisi bernilai `False`, blok kode tersebut akan dilewati dan program akan melanjutkan eksekusi ke baris berikutnya setelah blok `if`.\n\n**Contoh:**\n\nPada kode di atas, blok kode `print(\"Selamat! Anda lulus dengan nilai tinggi.\\n\")` hanya akan dijalankan jika `nilai` lebih besar dari 80. Jika `nilai` kurang dari atau sama dengan 80, blok kode tersebut tidak akan dijalankan.\n"
          },
          "metadata": {}
        }
      ]
    },
    {
      "source": [
        "# 2. IF-ELSE\n",
        "# Jika kondisi True, eksekusi blok if; jika False, eksekusi blok else\n",
        "umur = 17\n",
        "print(\"Contoh IF-ELSE:\")\n",
        "if umur >= 18:\n",
        "     print(\"Anda sudah cukup umur untuk mendapatkan SIM.\")\n",
        "else:\n",
        "     print(\"Anda belum cukup umur untuk mendapatkan SIM.\\n\")\n",
        "\n",
        "display(Markdown(\"\"\"\n",
        "**Pengertian IF-ELSE:**\n",
        "\n",
        "Pernyataan `if-else` digunakan untuk menjalankan satu blok kode jika kondisi bernilai `True`, dan blok kode lain jika kondisi bernilai `False`.\n",
        "\n",
        "**Contoh:**\n",
        "\n",
        "Pada kode di atas, jika `umur` lebih dari atau sama dengan 18, maka blok kode di dalam `if` akan dijalankan dan mencetak pesan \"Anda sudah cukup umur untuk mendapatkan SIM.\". Jika `umur` kurang dari 18, maka blok kode di dalam `else` akan dijalankan dan mencetak pesan \"Anda belum cukup umur untuk mendapatkan SIM.\\n\".\n",
        "\"\"\"))"
      ],
      "cell_type": "code",
      "metadata": {
        "colab": {
          "base_uri": "https://localhost:8080/",
          "height": 226
        },
        "id": "f39lUUAhIpcF",
        "outputId": "3a417650-8270-48b7-b78c-90249ae4437e"
      },
      "execution_count": null,
      "outputs": [
        {
          "output_type": "stream",
          "name": "stdout",
          "text": [
            "Contoh IF-ELSE:\n",
            "Anda belum cukup umur untuk mendapatkan SIM.\n",
            "\n"
          ]
        },
        {
          "output_type": "display_data",
          "data": {
            "text/plain": [
              "<IPython.core.display.Markdown object>"
            ],
            "text/markdown": "\n**Pengertian IF-ELSE:**\n\nPernyataan `if-else` digunakan untuk menjalankan satu blok kode jika kondisi bernilai `True`, dan blok kode lain jika kondisi bernilai `False`.\n\n**Contoh:**\n\nPada kode di atas, jika `umur` lebih dari atau sama dengan 18, maka blok kode di dalam `if` akan dijalankan dan mencetak pesan \"Anda sudah cukup umur untuk mendapatkan SIM.\". Jika `umur` kurang dari 18, maka blok kode di dalam `else` akan dijalankan dan mencetak pesan \"Anda belum cukup umur untuk mendapatkan SIM.\n\".\n"
          },
          "metadata": {}
        }
      ]
    },
    {
      "source": [
        "# 3. IF-ELIF-ELSE\n",
        "# Menangani banyak kondisi secara berurutan.Jika ada kondisi yang terpenuhi, blok yang bersangkutan dieksekusi,lalu program melewati blok kondisi setelahnya.\n",
        "hari = \"Rabu\"\n",
        "print(\"Contoh IF-ELIF-ELSE:\")\n",
        "if hari == \"Senin\":\n",
        "  print(\"Hari Senin - Saatnya kembali bekerja!\")\n",
        "elif hari == \"Selasa\":\n",
        "  print(\"Hari Selasa - Jadwal rapat mingguan.\")\n",
        "elif hari == \"Rabu\":\n",
        "  print(\"Hari Rabu - Ada diskon di beberapa toko.\")\n",
        "else:\n",
        "  print(\"Hari lainnya - Atur jadwalmu dengan baik.\\n\")\n",
        "\n",
        "display(Markdown(\"\"\"\n",
        "**Pengertian IF-ELIF-ELSE:**\n",
        "\n",
        "Pernyataan `if-elif-else` digunakan untuk menangani banyak kondisi secara berurutan. Jika ada kondisi yang terpenuhi, blok yang bersangkutan dieksekusi, lalu program melewati blok kondisi setelahnya.\n",
        "\n",
        "**Contoh:**\n",
        "\n",
        "Pada kode di atas, jika `hari` adalah \"Senin\", maka pesan \"Hari Senin - Saatnya kembali bekerja!\" akan dicetak. Jika `hari` adalah \"Selasa\", maka pesan \"Hari Selasa - Jadwal rapat mingguan.\" akan dicetak. Jika `hari` adalah \"Rabu\", maka pesan \"Hari Rabu - Ada diskon di beberapa toko.\" akan dicetak. Jika `hari` bukan \"Senin\", \"Selasa\", atau \"Rabu\", maka pesan \"Hari lainnya - Atur jadwalmu dengan baik.\\n\" akan dicetak.\n",
        "\"\"\"))"
      ],
      "cell_type": "code",
      "metadata": {
        "colab": {
          "base_uri": "https://localhost:8080/",
          "height": 225
        },
        "id": "xYZZOt4aI2i-",
        "outputId": "536bd66b-2e84-4992-9135-6991552776d4"
      },
      "execution_count": null,
      "outputs": [
        {
          "output_type": "stream",
          "name": "stdout",
          "text": [
            "Contoh IF-ELIF-ELSE:\n",
            "Hari Rabu - Ada diskon di beberapa toko.\n"
          ]
        },
        {
          "output_type": "display_data",
          "data": {
            "text/plain": [
              "<IPython.core.display.Markdown object>"
            ],
            "text/markdown": "\n**Pengertian IF-ELIF-ELSE:**\n\nPernyataan `if-elif-else` digunakan untuk menangani banyak kondisi secara berurutan. Jika ada kondisi yang terpenuhi, blok yang bersangkutan dieksekusi, lalu program melewati blok kondisi setelahnya.\n\n**Contoh:**\n\nPada kode di atas, jika `hari` adalah \"Senin\", maka pesan \"Hari Senin - Saatnya kembali bekerja!\" akan dicetak. Jika `hari` adalah \"Selasa\", maka pesan \"Hari Selasa - Jadwal rapat mingguan.\" akan dicetak. Jika `hari` adalah \"Rabu\", maka pesan \"Hari Rabu - Ada diskon di beberapa toko.\" akan dicetak. Jika `hari` bukan \"Senin\", \"Selasa\", atau \"Rabu\", maka pesan \"Hari lainnya - Atur jadwalmu dengan baik.\n\" akan dicetak.\n"
          },
          "metadata": {}
        }
      ]
    },
    {
      "source": [
        "# 4. IF Bersarang (Nested IF)\n",
        "# Kondisi di dalam kondisi, biasa digunakan jika kita perlu memeriksa sub-kondisi setelah kondisi pertama terpenuhi.\n",
        "suhu = 35\n",
        "print(\"Contoh IF Bersarang (Nested IF):\")\n",
        "if suhu > 30:\n",
        "     print(\"Cuaca cukup panas.\")\n",
        "     if suhu > 40:\n",
        "         print(\"Bahkan sangat terik! Disarankan banyak minum air.\")\n",
        "     else:\n",
        "         print(\"Masih relatif normal, tapi tetap jaga kesehatan.\")\n",
        "\n",
        "else:\n",
        "     print(\"Cuaca sepertinya cukup sejuk.\\n\")\n",
        "\n",
        "display(Markdown(\"\"\"\n",
        "**Pengertian IF Bersarang (Nested IF):**\n",
        "\n",
        "Kondisi di dalam kondisi, biasa digunakan jika kita perlu memeriksa sub-kondisi setelah kondisi pertama terpenuhi.\n",
        "\n",
        "**Contoh:**\n",
        "\n",
        "Pada kode di atas, jika `suhu` lebih besar dari 30, maka program akan mencetak \"Cuaca cukup panas.\". Kemudian, program akan memeriksa sub-kondisi: jika `suhu` lebih besar dari 40, maka program akan mencetak \"Bahkan sangat terik! Disarankan banyak minum air.\". Jika tidak (else), program akan mencetak \"Masih relatif normal, tapi tetap jaga kesehatan.\". Jika kondisi awal (`suhu` lebih besar dari 30) tidak terpenuhi, maka program akan mencetak \"Cuaca sepertinya cukup sejuk.\\n\".\n",
        "\"\"\"))"
      ],
      "cell_type": "code",
      "metadata": {
        "colab": {
          "base_uri": "https://localhost:8080/",
          "height": 225
        },
        "id": "5-2n3rpmJCoU",
        "outputId": "fba0f797-4994-4ffc-e55a-59c60c840734"
      },
      "execution_count": null,
      "outputs": [
        {
          "output_type": "stream",
          "name": "stdout",
          "text": [
            "Contoh IF Bersarang (Nested IF):\n",
            "Cuaca cukup panas.\n",
            "Masih relatif normal, tapi tetap jaga kesehatan.\n"
          ]
        },
        {
          "output_type": "display_data",
          "data": {
            "text/plain": [
              "<IPython.core.display.Markdown object>"
            ],
            "text/markdown": "\n**Pengertian IF Bersarang (Nested IF):**\n\nKondisi di dalam kondisi, biasa digunakan jika kita perlu memeriksa sub-kondisi setelah kondisi pertama terpenuhi.\n\n**Contoh:**\n\nPada kode di atas, jika `suhu` lebih besar dari 30, maka program akan mencetak \"Cuaca cukup panas.\". Kemudian, program akan memeriksa sub-kondisi: jika `suhu` lebih besar dari 40, maka program akan mencetak \"Bahkan sangat terik! Disarankan banyak minum air.\". Jika tidak (else), program akan mencetak \"Masih relatif normal, tapi tetap jaga kesehatan.\". Jika kondisi awal (`suhu` lebih besar dari 30) tidak terpenuhi, maka program akan mencetak \"Cuaca sepertinya cukup sejuk.\n\".\n"
          },
          "metadata": {}
        }
      ]
    },
    {
      "source": [
        "# 5. Menggabungkan Percabangan dengan Operasi Logika Memeriksa beberapa kondisi sekaligus dengan and, or, not\n",
        "nilai_teori = 75\n",
        "nilai_praktik = 80\n",
        "print(\"Contoh IF dengan Operasi Logika AND/OR:\")\n",
        "if nilai_teori >= 70 and nilai_praktik >= 70:\n",
        "     print(\"Anda lulus karena nilai teori dan praktik memadai.\")\n",
        "elif nilai_teori < 70 and nilai_praktik < 70:\n",
        "     print(\"Anda perlu meningkatkan nilai teori dan praktik.\")\n",
        "elif nilai_teori < 70:\n",
        "     print(\"Anda perlu meningkatkan nilai teori.\")\n",
        "else:\n",
        "     print(\"Anda perlu meningkatkan nilai praktik.\\n\")\n",
        "\n",
        "display(Markdown(\"\"\"\n",
        "**Menggabungkan Percabangan dengan Operasi Logika:**\n",
        "\n",
        "Dalam Python, Anda dapat menggabungkan pernyataan `if`, `elif`, dan `else` dengan operasi logika (`and`, `or`, `not`) untuk memeriksa beberapa kondisi sekaligus. Hal ini memungkinkan Anda untuk membuat logika percabangan yang lebih kompleks dan fleksibel.\n",
        "\n",
        "**Contoh:**\n",
        "\n",
        "Pada kode di atas, kita menggunakan operasi logika `and` untuk memeriksa apakah `nilai_teori` dan `nilai_praktik` keduanya lebih dari atau sama dengan 70. Jika kedua kondisi tersebut terpenuhi, maka program akan mencetak pesan \"Anda lulus karena nilai teori dan praktik memadai.\". Jika tidak, program akan memeriksa kondisi-kondisi lain menggunakan `elif` dan `else` untuk memberikan pesan yang sesuai.\n",
        "\"\"\"))"
      ],
      "cell_type": "code",
      "metadata": {
        "colab": {
          "base_uri": "https://localhost:8080/",
          "height": 242
        },
        "id": "u1LWPOsiJU7B",
        "outputId": "4b238895-6434-431a-e866-ce644da79584"
      },
      "execution_count": null,
      "outputs": [
        {
          "output_type": "stream",
          "name": "stdout",
          "text": [
            "Contoh IF dengan Operasi Logika AND/OR:\n",
            "Anda lulus karena nilai teori dan praktik memadai.\n"
          ]
        },
        {
          "output_type": "display_data",
          "data": {
            "text/plain": [
              "<IPython.core.display.Markdown object>"
            ],
            "text/markdown": "\n**Menggabungkan Percabangan dengan Operasi Logika:**\n\nDalam Python, Anda dapat menggabungkan pernyataan `if`, `elif`, dan `else` dengan operasi logika (`and`, `or`, `not`) untuk memeriksa beberapa kondisi sekaligus. Hal ini memungkinkan Anda untuk membuat logika percabangan yang lebih kompleks dan fleksibel.\n\n**Contoh:**\n\nPada kode di atas, kita menggunakan operasi logika `and` untuk memeriksa apakah `nilai_teori` dan `nilai_praktik` keduanya lebih dari atau sama dengan 70. Jika kedua kondisi tersebut terpenuhi, maka program akan mencetak pesan \"Anda lulus karena nilai teori dan praktik memadai.\". Jika tidak, program akan memeriksa kondisi-kondisi lain menggunakan `elif` dan `else` untuk memberikan pesan yang sesuai.\n"
          },
          "metadata": {}
        }
      ]
    },
    {
      "source": [
        "# 6. Penggunaan If Ternary (atau Conditional Expression)\n",
        "# Bentuk ringkas: <hasil_if_true> if <kondisi> else <hasil_if_false>\n",
        "angka = -5\n",
        "print(\"Contoh If Ternary (Conditional Expression):\")\n",
        "status = \"Positif\" if angka > 0 else \"Negatif atau Nol\"\n",
        "print(\"Angka =\", angka, \"=>\", status)\n",
        "\n",
        "display(Markdown(\"\"\"\n",
        "**Pengertian If Ternary (atau Conditional Expression):**\n",
        "\n",
        "If Ternary (atau Conditional Expression) adalah bentuk ringkas dari pernyataan `if-else` dalam Python.\n",
        "Bentuk umumnya adalah:\n",
        "`<hasil_if_true> if <kondisi> else <hasil_if_false>`\n",
        "\n",
        "**Contoh:**\n",
        "\n",
        "Pada kode di atas, `status` akan di-assign nilai \"Positif\" jika `angka` lebih besar dari 0, dan \"Negatif atau Nol\" jika sebaliknya.\n",
        "\"\"\"))"
      ],
      "cell_type": "code",
      "metadata": {
        "colab": {
          "base_uri": "https://localhost:8080/",
          "height": 190
        },
        "id": "HmYuiqgfJsY9",
        "outputId": "db11334a-16cd-4e5c-dae5-13d50b5c9d24"
      },
      "execution_count": null,
      "outputs": [
        {
          "output_type": "stream",
          "name": "stdout",
          "text": [
            "Contoh If Ternary (Conditional Expression):\n",
            "Angka = -5 => Negatif atau Nol\n"
          ]
        },
        {
          "output_type": "display_data",
          "data": {
            "text/plain": [
              "<IPython.core.display.Markdown object>"
            ],
            "text/markdown": "\n**Pengertian If Ternary (atau Conditional Expression):**\n\nIf Ternary (atau Conditional Expression) adalah bentuk ringkas dari pernyataan `if-else` dalam Python.  \nBentuk umumnya adalah:  \n`<hasil_if_true> if <kondisi> else <hasil_if_false>`\n\n**Contoh:**\n\nPada kode di atas, `status` akan di-assign nilai \"Positif\" jika `angka` lebih besar dari 0, dan \"Negatif atau Nol\" jika sebaliknya.\n"
          },
          "metadata": {}
        }
      ]
    },
    {
      "cell_type": "markdown",
      "source": [
        "# Perulangan"
      ],
      "metadata": {
        "id": "e7NxAKfMasD6"
      }
    },
    {
      "source": [
        "# 1. FOR Loop dengan range()\n",
        "print(\"1) FOR loop dengan range()\")\n",
        "for i in range(5):\n",
        "    print(\"Perulangan ke-\", i)\n",
        "# range(5) menghasilkan nilai 0, 1, 2, 3, dan 4\n",
        "# Sehingga perulangan akan berjalan sebanyak 5 kali\n",
        "print()  # pemisah output\n",
        "\n",
        "display(Markdown(\"\"\"\n",
        "**Pengertian FOR Loop dengan `range()`:**\n",
        "\n",
        "Perulangan `for` dengan `range()` digunakan untuk menjalankan blok kode secara berulang sebanyak jumlah yang ditentukan oleh `range()`. Fungsi `range()` menghasilkan urutan angka yang akan digunakan sebagai iterator dalam perulangan `for`.\n",
        "\n",
        "**Contoh:**\n",
        "\n",
        "Pada kode di atas, `range(5)` menghasilkan urutan angka 0, 1, 2, 3, dan 4. Perulangan `for` akan berjalan sebanyak 5 kali, dengan variabel `i` mengambil nilai dari urutan angka tersebut pada setiap iterasi. Oleh karena itu, kode di dalam blok `for` (yaitu `print(\"Perulangan ke-\", i)`) akan dijalankan sebanyak 5 kali, dengan `i` bernilai 0, 1, 2, 3, dan 4 secara berurutan.\n",
        "\"\"\"))"
      ],
      "cell_type": "code",
      "metadata": {
        "colab": {
          "base_uri": "https://localhost:8080/",
          "height": 300
        },
        "id": "jfVAs_zmJ7Fx",
        "outputId": "62377e92-1d71-4503-e9d9-f7dd1df0d5c9"
      },
      "execution_count": null,
      "outputs": [
        {
          "output_type": "stream",
          "name": "stdout",
          "text": [
            "1) FOR loop dengan range()\n",
            "Perulangan ke- 0\n",
            "Perulangan ke- 1\n",
            "Perulangan ke- 2\n",
            "Perulangan ke- 3\n",
            "Perulangan ke- 4\n",
            "\n"
          ]
        },
        {
          "output_type": "display_data",
          "data": {
            "text/plain": [
              "<IPython.core.display.Markdown object>"
            ],
            "text/markdown": "\n**Pengertian FOR Loop dengan `range()`:**\n\nPerulangan `for` dengan `range()` digunakan untuk menjalankan blok kode secara berulang sebanyak jumlah yang ditentukan oleh `range()`. Fungsi `range()` menghasilkan urutan angka yang akan digunakan sebagai iterator dalam perulangan `for`.\n\n**Contoh:**\n\nPada kode di atas, `range(5)` menghasilkan urutan angka 0, 1, 2, 3, dan 4. Perulangan `for` akan berjalan sebanyak 5 kali, dengan variabel `i` mengambil nilai dari urutan angka tersebut pada setiap iterasi. Oleh karena itu, kode di dalam blok `for` (yaitu `print(\"Perulangan ke-\", i)`) akan dijalankan sebanyak 5 kali, dengan `i` bernilai 0, 1, 2, 3, dan 4 secara berurutan.\n"
          },
          "metadata": {}
        }
      ]
    },
    {
      "source": [
        "# 2. FOR Loop untuk mengiterasi List\n",
        "print(\"2) FOR loop mengiterasi list\")\n",
        "buah = [\"apel\", \"mangga\", \"jeruk\", \"pisang\"]\n",
        "for item in buah:\n",
        "    print(\"Buah:\", item)\n",
        "# Loop akan mengeksekusi setiap elemen dalam list \"buah\"\n",
        "print()\n",
        "\n",
        "# Menampilkan output Markdown menggunakan magic command %%markdown\n",
        "get_ipython().run_cell_magic('markdown', '', '''\n",
        "**Pengertian FOR Loop untuk Mengiterasi List:**\n",
        "\n",
        "Perulangan `for` dapat digunakan untuk mengiterasi (mengulang) setiap elemen dalam sebuah list. Pada setiap iterasi, variabel loop akan berisi nilai elemen saat ini dari list.\n",
        "\n",
        "**Contoh:**\n",
        "\n",
        "Pada kode di atas, perulangan `for` akan berjalan sebanyak jumlah elemen dalam list `buah`. Pada setiap iterasi, variabel `item` akan berisi nilai elemen saat ini dari list `buah`. Oleh karena itu, kode di dalam blok `for` (yaitu `print(\"Buah:\", item)`) akan dijalankan untuk setiap elemen dalam list `buah`, sehingga akan mencetak setiap buah dalam list tersebut.\n",
        "''')"
      ],
      "cell_type": "code",
      "metadata": {
        "colab": {
          "base_uri": "https://localhost:8080/",
          "height": 279
        },
        "id": "VV-aFY19KSJM",
        "outputId": "4850aeb9-d829-47f7-8175-344ed38b5918"
      },
      "execution_count": null,
      "outputs": [
        {
          "output_type": "stream",
          "name": "stdout",
          "text": [
            "2) FOR loop mengiterasi list\n",
            "Buah: apel\n",
            "Buah: mangga\n",
            "Buah: jeruk\n",
            "Buah: pisang\n",
            "\n"
          ]
        },
        {
          "output_type": "display_data",
          "data": {
            "text/plain": [
              "<IPython.core.display.Markdown object>"
            ],
            "text/markdown": "\n**Pengertian FOR Loop untuk Mengiterasi List:**\n\nPerulangan `for` dapat digunakan untuk mengiterasi (mengulang) setiap elemen dalam sebuah list. Pada setiap iterasi, variabel loop akan berisi nilai elemen saat ini dari list.\n\n**Contoh:**\n\nPada kode di atas, perulangan `for` akan berjalan sebanyak jumlah elemen dalam list `buah`. Pada setiap iterasi, variabel `item` akan berisi nilai elemen saat ini dari list `buah`. Oleh karena itu, kode di dalam blok `for` (yaitu `print(\"Buah:\", item)`) akan dijalankan untuk setiap elemen dalam list `buah`, sehingga akan mencetak setiap buah dalam list tersebut.\n"
          },
          "metadata": {}
        }
      ]
    },
    {
      "source": [
        "# 3. WHILE Loop\n",
        "print(\"3) WHILE loop sederhana\")\n",
        "count = 0\n",
        "while count < 5:\n",
        "    print(\"count =\", count)\n",
        "    count += 1  # increment\n",
        "# Perulangan while terus dijalankan selama kondisi (count < 5) bernilai True\n",
        "print()\n",
        "\n",
        "# Menampilkan output Markdown menggunakan magic command %%markdown\n",
        "get_ipython().run_cell_magic('markdown', '', '''\n",
        "**Pengertian WHILE Loop:**\n",
        "\n",
        "Perulangan `while` digunakan untuk menjalankan blok kode secara berulang **selama** kondisi yang diberikan bernilai `True`. Perulangan akan berhenti ketika kondisi menjadi `False`.\n",
        "\n",
        "**Contoh:**\n",
        "\n",
        "Pada kode di atas, perulangan `while` akan terus berjalan selama nilai variabel `count` kurang dari 5. Di dalam blok `while`, nilai `count` dicetak ke konsol, kemudian nilai `count` ditambah 1 (`count += 1`). Ketika nilai `count` mencapai 5, kondisi `count < 5` menjadi `False`, dan perulangan berhenti.\n",
        "''')"
      ],
      "cell_type": "code",
      "metadata": {
        "colab": {
          "base_uri": "https://localhost:8080/",
          "height": 281
        },
        "id": "_foFz2zuKZ0_",
        "outputId": "b17705f2-67d1-4e8b-f359-fa537b26baeb"
      },
      "execution_count": null,
      "outputs": [
        {
          "output_type": "stream",
          "name": "stdout",
          "text": [
            "3) WHILE loop sederhana\n",
            "count = 0\n",
            "count = 1\n",
            "count = 2\n",
            "count = 3\n",
            "count = 4\n",
            "\n"
          ]
        },
        {
          "output_type": "display_data",
          "data": {
            "text/plain": [
              "<IPython.core.display.Markdown object>"
            ],
            "text/markdown": "\n**Pengertian WHILE Loop:**\n\nPerulangan `while` digunakan untuk menjalankan blok kode secara berulang **selama** kondisi yang diberikan bernilai `True`. Perulangan akan berhenti ketika kondisi menjadi `False`.\n\n**Contoh:**\n\nPada kode di atas, perulangan `while` akan terus berjalan selama nilai variabel `count` kurang dari 5. Di dalam blok `while`, nilai `count` dicetak ke konsol, kemudian nilai `count` ditambah 1 (`count += 1`). Ketika nilai `count` mencapai 5, kondisi `count < 5` menjadi `False`, dan perulangan berhenti.\n"
          },
          "metadata": {}
        }
      ]
    },
    {
      "source": [
        "# 4. BREAK pada Loop\n",
        "print(\"4) BREAK di dalam loop\")\n",
        "for i in range(10):\n",
        "    if i == 3:\n",
        "        print(\"Loop dihentikan pada i =\", i)\n",
        "        break  # mengakhiri loop saat i = 3\n",
        "    print(\"i =\", i)\n",
        "# Keyword break langsung menghentikan keseluruhan perulangan\n",
        "print()\n",
        "\n",
        "# Menampilkan output Markdown menggunakan magic command %%markdown\n",
        "get_ipython().run_cell_magic('markdown', '', '''\n",
        "**Pengertian BREAK pada Loop:**\n",
        "\n",
        "Pernyataan `break` digunakan untuk menghentikan paksa eksekusi blok kode perulangan. Biasanya keyword ini digunakan dalam kondisi tertentu (sesuai kebutuhan). `break` akan menghentikan seluruh proses perulangan, dan program akan melanjutkan eksekusi ke baris kode setelah perulangan.\n",
        "\n",
        "**Contoh:**\n",
        "\n",
        "Pada kode di atas, perulangan `for` akan berjalan dari `i = 0` hingga `i = 9`. Namun, ketika `i` bernilai 3, kondisi `if i == 3` terpenuhi, dan pernyataan `break` dijalankan. Akibatnya, perulangan `for` dihentikan secara paksa, dan program melanjutkan eksekusi ke baris kode `print()` setelah perulangan.\n",
        "''')"
      ],
      "cell_type": "code",
      "metadata": {
        "colab": {
          "base_uri": "https://localhost:8080/",
          "height": 263
        },
        "id": "sycFJ7yoKia8",
        "outputId": "c187c337-4469-474f-cd8d-e0a2b2633324"
      },
      "execution_count": null,
      "outputs": [
        {
          "output_type": "stream",
          "name": "stdout",
          "text": [
            "4) BREAK di dalam loop\n",
            "i = 0\n",
            "i = 1\n",
            "i = 2\n",
            "Loop dihentikan pada i = 3\n",
            "\n"
          ]
        },
        {
          "output_type": "display_data",
          "data": {
            "text/plain": [
              "<IPython.core.display.Markdown object>"
            ],
            "text/markdown": "\n**Pengertian BREAK pada Loop:**\n\nPernyataan `break` digunakan untuk menghentikan paksa eksekusi blok kode perulangan. Biasanya keyword ini digunakan dalam kondisi tertentu (sesuai kebutuhan). `break` akan menghentikan seluruh proses perulangan, dan program akan melanjutkan eksekusi ke baris kode setelah perulangan.\n\n**Contoh:**\n\nPada kode di atas, perulangan `for` akan berjalan dari `i = 0` hingga `i = 9`. Namun, ketika `i` bernilai 3, kondisi `if i == 3` terpenuhi, dan pernyataan `break` dijalankan. Akibatnya, perulangan `for` dihentikan secara paksa, dan program melanjutkan eksekusi ke baris kode `print()` setelah perulangan.\n"
          },
          "metadata": {}
        }
      ]
    },
    {
      "source": [
        "# 5. CONTINUE pada Loop\n",
        "print(\"5) CONTINUE di dalam loop\")\n",
        "for i in range(5):\n",
        "    if i == 2:\n",
        "        print(\"Lewati i =\", i, \"dengan continue\")\n",
        "        continue  # melewati iterasi saat ini dan lanjut ke iterasi berikutnya\n",
        "    print(\"i =\", i)\n",
        "# Saat i = 2, baris print(\"i =\", i) tidak akan dieksekusi\n",
        "print()\n",
        "\n",
        "# Menampilkan output Markdown menggunakan magic command %%markdown\n",
        "get_ipython().run_cell_magic('markdown', '', '''\n",
        "**Pengertian CONTINUE pada Loop:**\n",
        "\n",
        "Pernyataan `continue` digunakan untuk melewati iterasi saat ini dan melanjutkan ke iterasi berikutnya dalam perulangan. Ketika `continue` dijalankan, kode di bawahnya dalam iterasi saat ini akan diabaikan, dan perulangan akan melanjutkan ke iterasi berikutnya.\n",
        "\n",
        "**Contoh:**\n",
        "\n",
        "Pada kode di atas, perulangan `for` akan berjalan dari `i = 0` hingga `i = 4`. Ketika `i` bernilai 2, kondisi `if i == 2` terpenuhi, dan pernyataan `continue` dijalankan. Akibatnya, baris kode `print(\"i =\", i)` di bawahnya dilewati, dan perulangan melanjutkan ke iterasi berikutnya (`i = 3`).\n",
        "''')"
      ],
      "cell_type": "code",
      "metadata": {
        "colab": {
          "base_uri": "https://localhost:8080/",
          "height": 280
        },
        "id": "3_q2r2xuKtDb",
        "outputId": "90d8e54c-d755-4bd3-b13b-8cf0e68b3611"
      },
      "execution_count": null,
      "outputs": [
        {
          "output_type": "stream",
          "name": "stdout",
          "text": [
            "5) CONTINUE di dalam loop\n",
            "i = 0\n",
            "i = 1\n",
            "Lewati i = 2 dengan continue\n",
            "i = 3\n",
            "i = 4\n",
            "\n"
          ]
        },
        {
          "output_type": "display_data",
          "data": {
            "text/plain": [
              "<IPython.core.display.Markdown object>"
            ],
            "text/markdown": "\n**Pengertian CONTINUE pada Loop:**\n\nPernyataan `continue` digunakan untuk melewati iterasi saat ini dan melanjutkan ke iterasi berikutnya dalam perulangan. Ketika `continue` dijalankan, kode di bawahnya dalam iterasi saat ini akan diabaikan, dan perulangan akan melanjutkan ke iterasi berikutnya.\n\n**Contoh:**\n\nPada kode di atas, perulangan `for` akan berjalan dari `i = 0` hingga `i = 4`. Ketika `i` bernilai 2, kondisi `if i == 2` terpenuhi, dan pernyataan `continue` dijalankan. Akibatnya, baris kode `print(\"i =\", i)` di bawahnya dilewati, dan perulangan melanjutkan ke iterasi berikutnya (`i = 3`).\n"
          },
          "metadata": {}
        }
      ]
    },
    {
      "source": [
        "# 6. NESTED Loop (Loop Bersarang)\n",
        "print(\"6) NESTED loop\")\n",
        "for i in range(3):            # Loop luar (outer loop)\n",
        "    for j in range(2):        # Loop dalam (inner loop)\n",
        "        print(f\"i={i}, j={j}\")\n",
        "# Pada setiap iterasi i, loop j akan berjalan dari 0 sampai 1\n",
        "print()\n",
        "\n",
        "# Menampilkan output Markdown menggunakan magic command %%markdown\n",
        "get_ipython().run_cell_magic('markdown', '', '''\n",
        "**Pengertian Nested Loop (Loop Bersarang):**\n",
        "\n",
        "Nested loop atau loop bersarang adalah perulangan di dalam perulangan. Ini berarti Anda memiliki satu loop (loop luar) yang berisi loop lain (loop dalam). Loop dalam akan dijalankan sepenuhnya untuk setiap iterasi loop luar.\n",
        "\n",
        "**Contoh:**\n",
        "\n",
        "Pada kode di atas, terdapat dua loop `for`. Loop luar dengan variabel `i` berjalan dari 0 hingga 2. Untuk setiap nilai `i`, loop dalam dengan variabel `j` berjalan dari 0 hingga 1. Oleh karena itu, kode di dalam loop dalam (`print(f\"i={i}, j={j}\")`) akan dijalankan sebanyak 6 kali (3 iterasi loop luar x 2 iterasi loop dalam).\n",
        "''')"
      ],
      "cell_type": "code",
      "metadata": {
        "colab": {
          "base_uri": "https://localhost:8080/",
          "height": 297
        },
        "id": "CWHM0WnOK102",
        "outputId": "d1748b1f-79d2-452e-feac-1c88f9d8efc4"
      },
      "execution_count": null,
      "outputs": [
        {
          "output_type": "stream",
          "name": "stdout",
          "text": [
            "6) NESTED loop\n",
            "i=0, j=0\n",
            "i=0, j=1\n",
            "i=1, j=0\n",
            "i=1, j=1\n",
            "i=2, j=0\n",
            "i=2, j=1\n",
            "\n"
          ]
        },
        {
          "output_type": "display_data",
          "data": {
            "text/plain": [
              "<IPython.core.display.Markdown object>"
            ],
            "text/markdown": "\n**Pengertian Nested Loop (Loop Bersarang):**\n\nNested loop atau loop bersarang adalah perulangan di dalam perulangan. Ini berarti Anda memiliki satu loop (loop luar) yang berisi loop lain (loop dalam). Loop dalam akan dijalankan sepenuhnya untuk setiap iterasi loop luar.\n\n**Contoh:**\n\nPada kode di atas, terdapat dua loop `for`. Loop luar dengan variabel `i` berjalan dari 0 hingga 2. Untuk setiap nilai `i`, loop dalam dengan variabel `j` berjalan dari 0 hingga 1. Oleh karena itu, kode di dalam loop dalam (`print(f\"i={i}, j={j}\")`) akan dijalankan sebanyak 6 kali (3 iterasi loop luar x 2 iterasi loop dalam). \n"
          },
          "metadata": {}
        }
      ]
    },
    {
      "source": [
        "# 7. Memanfaatkan ELSE pada Loop\n",
        "print(\"7) ELSE pada loop for/while\")\n",
        "# Python memiliki fitur unik: blok else pada loop\n",
        "# Blok else akan dieksekusi jika loop selesai tanpa di-break.\n",
        "\n",
        "for x in range(3):\n",
        "       print(\"x =\", x)\n",
        "else:\n",
        "    print(\"Loop for telah selesai tanpa break.\\n\")\n",
        "y = 0\n",
        "while y < 3:\n",
        "    print(\"y =\", y)\n",
        "    y += 1  # This line was incorrectly indented; fixed by removing extra spaces\n",
        "else:\n",
        "    print(\"Loop while telah selesai tanpa break.\\n\") # Closed the print statement with a closing parenthesis\n",
        "\n",
        "# Menampilkan output Markdown menggunakan magic command %%markdown\n",
        "get_ipython().run_cell_magic('markdown', '', '''\n",
        "**Pengertian ELSE pada Loop:**\n",
        "\n",
        "Dalam Python, blok `else` pada perulangan (`for` atau `while`) akan dieksekusi **hanya jika** perulangan tersebut selesai secara normal, tanpa dihentikan oleh pernyataan `break`.\n",
        "\n",
        "**Contoh:**\n",
        "\n",
        "- **`for` loop:** Pada kode di atas, blok `else` setelah perulangan `for` akan dieksekusi karena perulangan tersebut selesai secara normal (mencapai iterasi terakhir tanpa dihentikan oleh `break`).\n",
        "- **`while` loop:**  Blok `else` setelah perulangan `while` juga akan dieksekusi karena perulangan tersebut selesai secara normal (kondisi `y < 3` menjadi `False` tanpa dihentikan oleh `break`).\n",
        "''')"
      ],
      "cell_type": "code",
      "metadata": {
        "colab": {
          "base_uri": "https://localhost:8080/",
          "height": 389
        },
        "id": "7WBzYRamK8ym",
        "outputId": "9a5f30e3-1b20-4bb1-e54b-d0ea4d1e9364"
      },
      "execution_count": null,
      "outputs": [
        {
          "output_type": "stream",
          "name": "stdout",
          "text": [
            "7) ELSE pada loop for/while\n",
            "x = 0\n",
            "x = 1\n",
            "x = 2\n",
            "Loop for telah selesai tanpa break.\n",
            "\n",
            "y = 0\n",
            "y = 1\n",
            "y = 2\n",
            "Loop while telah selesai tanpa break.\n",
            "\n"
          ]
        },
        {
          "output_type": "display_data",
          "data": {
            "text/plain": [
              "<IPython.core.display.Markdown object>"
            ],
            "text/markdown": "\n**Pengertian ELSE pada Loop:**\n\nDalam Python, blok `else` pada perulangan (`for` atau `while`) akan dieksekusi **hanya jika** perulangan tersebut selesai secara normal, tanpa dihentikan oleh pernyataan `break`. \n\n**Contoh:**\n\n- **`for` loop:** Pada kode di atas, blok `else` setelah perulangan `for` akan dieksekusi karena perulangan tersebut selesai secara normal (mencapai iterasi terakhir tanpa dihentikan oleh `break`).\n- **`while` loop:**  Blok `else` setelah perulangan `while` juga akan dieksekusi karena perulangan tersebut selesai secara normal (kondisi `y < 3` menjadi `False` tanpa dihentikan oleh `break`).\n"
          },
          "metadata": {}
        }
      ]
    },
    {
      "source": [
        "# 8. PASS sebagai placeholder\n",
        "print(\"8) PASS (placeholder)\")\n",
        "for i in range(3):\n",
        "    if i == 1:\n",
        "        pass  # pass tidak melakukan apa-apa, digunakan sebagai placeholder\n",
        "    print(\"i =\", i)\n",
        "\n",
        "# Menampilkan output Markdown menggunakan magic command %%markdown\n",
        "get_ipython().run_cell_magic('markdown', '', '''\n",
        "**Pengertian PASS (placeholder):**\n",
        "\n",
        "`pass` adalah pernyataan di Python yang tidak melakukan apa-apa. Ini sering digunakan sebagai placeholder untuk kode yang belum diimplementasikan, sehingga program tetap valid secara sintaksis.\n",
        "\n",
        "**Contoh:**\n",
        "\n",
        "Pada kode di atas, `pass` digunakan di dalam blok `if` saat `i == 1`. Ini berarti bahwa ketika `i` bernilai 1, blok `if` tidak akan melakukan apa-apa. Namun, karena ada pernyataan `pass`, blok `if` tetap valid secara sintaksis dan program dapat dijalankan tanpa error.\n",
        "''')"
      ],
      "cell_type": "code",
      "metadata": {
        "colab": {
          "base_uri": "https://localhost:8080/",
          "height": 226
        },
        "id": "u5QO6TQZLGLe",
        "outputId": "dd254f2c-3ba8-41f7-fdba-a9ebd4940de5"
      },
      "execution_count": null,
      "outputs": [
        {
          "output_type": "stream",
          "name": "stdout",
          "text": [
            "8) PASS (placeholder)\n",
            "i = 0\n",
            "i = 1\n",
            "i = 2\n"
          ]
        },
        {
          "output_type": "display_data",
          "data": {
            "text/plain": [
              "<IPython.core.display.Markdown object>"
            ],
            "text/markdown": "\n**Pengertian PASS (placeholder):**\n\n`pass` adalah pernyataan di Python yang tidak melakukan apa-apa. Ini sering digunakan sebagai placeholder untuk kode yang belum diimplementasikan, sehingga program tetap valid secara sintaksis.\n\n**Contoh:**\n\nPada kode di atas, `pass` digunakan di dalam blok `if` saat `i == 1`. Ini berarti bahwa ketika `i` bernilai 1, blok `if` tidak akan melakukan apa-apa. Namun, karena ada pernyataan `pass`, blok `if` tetap valid secara sintaksis dan program dapat dijalankan tanpa error.\n"
          },
          "metadata": {}
        }
      ]
    }
  ]
}