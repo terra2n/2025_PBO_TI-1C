{
  "nbformat": 4,
  "nbformat_minor": 0,
  "metadata": {
    "colab": {
      "provenance": [],
      "authorship_tag": "ABX9TyPwvFEzdUswsVQI4c9VPg3S",
      "include_colab_link": true
    },
    "kernelspec": {
      "name": "python3",
      "display_name": "Python 3"
    },
    "language_info": {
      "name": "python"
    }
  },
  "cells": [
    {
      "cell_type": "markdown",
      "metadata": {
        "id": "view-in-github",
        "colab_type": "text"
      },
      "source": [
        "<a href=\"https://colab.research.google.com/github/terra2n/2025_PBO_TI-1C/blob/main/Jobsheet02.ipynb\" target=\"_parent\"><img src=\"https://colab.research.google.com/assets/colab-badge.svg\" alt=\"Open In Colab\"/></a>"
      ]
    },
    {
      "cell_type": "markdown",
      "source": [
        "# Praktikum 1 : membuat dan Menggunakan Fungsi"
      ],
      "metadata": {
        "id": "Wc4PFsXRQHiV"
      }
    },
    {
      "source": [
        "# Fungsi Built-in\n",
        "# Fungsi print() adalah contoh fungsi built-in untuk mencetak output\n",
        "print(\"Ini adalah contoh fungsi built-in\")\n",
        "\n",
        "# Menampilkan penjelasan fungsi dengan display(Markdown(...)):\n",
        "from IPython.display import display, Markdown\n",
        "display(Markdown(\"**print():** Fungsi bawaan (built-in) dalam Python yang digunakan untuk menampilkan output ke konsol atau layar. Anda dapat mencetak teks, angka, atau variabel menggunakan fungsi ini.\"))"
      ],
      "cell_type": "code",
      "metadata": {
        "colab": {
          "base_uri": "https://localhost:8080/",
          "height": 81
        },
        "id": "R6-LPCs3Yd1x",
        "outputId": "539525f8-fe33-469b-d248-3779a92ecaef"
      },
      "execution_count": null,
      "outputs": [
        {
          "output_type": "stream",
          "name": "stdout",
          "text": [
            "Ini adalah contoh fungsi built-in\n"
          ]
        },
        {
          "output_type": "display_data",
          "data": {
            "text/plain": [
              "<IPython.core.display.Markdown object>"
            ],
            "text/markdown": "**print():** Fungsi bawaan (built-in) dalam Python yang digunakan untuk menampilkan output ke konsol atau layar. Anda dapat mencetak teks, angka, atau variabel menggunakan fungsi ini."
          },
          "metadata": {}
        }
      ]
    },
    {
      "source": [
        "# Fungsi len() adalah contoh fungsi built-in untuk menghitung panjang suatu objek\n",
        "kata = \"Pemrograman\"\n",
        "panjang_kata = len(kata)\n",
        "print(f\"Panjang kata '{kata}' adalah: {panjang_kata}\")\n",
        "\n",
        "# Menampilkan penjelasan fungsi dengan display(Markdown(...)):\n",
        "from IPython.display import display, Markdown\n",
        "display(Markdown(\"**len():** Fungsi bawaan (built-in) dalam Python yang digunakan untuk mengembalikan panjang (jumlah item) dari suatu objek. Objek bisa berupa sequence (seperti string, bytes, tuple, list, atau range) atau collection (seperti dictionary, set, atau frozen set).\"))"
      ],
      "cell_type": "code",
      "metadata": {
        "colab": {
          "base_uri": "https://localhost:8080/",
          "height": 81
        },
        "id": "sscppakiYnrG",
        "outputId": "9e9d06c2-0426-4464-90d5-f0bfea4b8cfe"
      },
      "execution_count": null,
      "outputs": [
        {
          "output_type": "stream",
          "name": "stdout",
          "text": [
            "Panjang kata 'Pemrograman' adalah: 11\n"
          ]
        },
        {
          "output_type": "display_data",
          "data": {
            "text/plain": [
              "<IPython.core.display.Markdown object>"
            ],
            "text/markdown": "**len():** Fungsi bawaan (built-in) dalam Python yang digunakan untuk mengembalikan panjang (jumlah item) dari suatu objek. Objek bisa berupa sequence (seperti string, bytes, tuple, list, atau range) atau collection (seperti dictionary, set, atau frozen set)."
          },
          "metadata": {}
        }
      ]
    },
    {
      "source": [
        "# Fungsi max() adalah contoh fungsi built-in untuk mencari nilai maksimum dari sebuah daftar\n",
        "angka = [10, 5, 30, 40, 25]\n",
        "nilai_max = max(angka)\n",
        "print(f\"Nilai maksimum dalam daftar {angka} adalah: {nilai_max}\")\n",
        "\n",
        "# Menampilkan penjelasan fungsi dengan display(Markdown(...)):\n",
        "from IPython.display import display, Markdown\n",
        "display(Markdown(\"**max():** Fungsi bawaan (built-in) dalam Python yang digunakan untuk mencari nilai maksimum dalam suatu iterable (seperti list, tuple, atau string).\"))"
      ],
      "cell_type": "code",
      "metadata": {
        "colab": {
          "base_uri": "https://localhost:8080/",
          "height": 64
        },
        "id": "iXv6CkIoYxC0",
        "outputId": "6935d16b-3edb-41eb-c6e4-2ad0c6715dc4"
      },
      "execution_count": null,
      "outputs": [
        {
          "output_type": "stream",
          "name": "stdout",
          "text": [
            "Nilai maksimum dalam daftar [10, 5, 30, 40, 25] adalah: 40\n"
          ]
        },
        {
          "output_type": "display_data",
          "data": {
            "text/plain": [
              "<IPython.core.display.Markdown object>"
            ],
            "text/markdown": "**max():** Fungsi bawaan (built-in) dalam Python yang digunakan untuk mencari nilai maksimum dalam suatu iterable (seperti list, tuple, atau string)."
          },
          "metadata": {}
        }
      ]
    },
    {
      "source": [
        "# Fungsi User-Defined\n",
        "\n",
        "# Fungsi dengan satu parameter (Menerima satu nilai input)\n",
        "def cetak_kuadrat(angka):\n",
        "    #Menghitung kuadrat dari angka yang diterima sebagai parameter\n",
        "    print(f\"Kuadrat dari {angka} adalah: {angka ** 2}\")\n",
        "\n",
        "# Menampilkan penjelasan fungsi dengan display(Markdown(...)):\n",
        "from IPython.display import display, Markdown\n",
        "display(Markdown(\"**cetak_kuadrat(angka):** Fungsi yang dibuat oleh pengguna (user-defined) untuk menghitung dan mencetak kuadrat dari suatu angka yang diberikan sebagai input (`angka`).\"))"
      ],
      "cell_type": "code",
      "metadata": {
        "colab": {
          "base_uri": "https://localhost:8080/",
          "height": 64
        },
        "id": "X5vuxvPeY7dR",
        "outputId": "29c7e466-bcd7-4824-efd2-99315aef2665"
      },
      "execution_count": null,
      "outputs": [
        {
          "output_type": "display_data",
          "data": {
            "text/plain": [
              "<IPython.core.display.Markdown object>"
            ],
            "text/markdown": "**cetak_kuadrat(angka):** Fungsi yang dibuat oleh pengguna (user-defined) untuk menghitung dan mencetak kuadrat dari suatu angka yang diberikan sebagai input (`angka`)."
          },
          "metadata": {}
        }
      ]
    },
    {
      "source": [
        "# Fungsi dengan beberapa parameter (Menerima lebih dari satu nilai input)\n",
        "def hitung_luas_persegi_panjang(panjang, lebar):\n",
        "    # Menghitung luas persegi panjang\n",
        "    return panjang * lebar\n",
        "\n",
        "# Menampilkan penjelasan fungsi dengan display(Markdown(...)):\n",
        "from IPython.display import display, Markdown\n",
        "display(Markdown(\"**hitung_luas_persegi_panjang(panjang, lebar):** Fungsi yang dibuat oleh pengguna (user-defined) untuk menghitung luas persegi panjang. Fungsi ini menerima dua argumen, yaitu `panjang` dan `lebar` persegi panjang, dan mengembalikan hasil perhitungan luasnya.\"))"
      ],
      "cell_type": "code",
      "metadata": {
        "colab": {
          "base_uri": "https://localhost:8080/",
          "height": 64
        },
        "id": "uS7y4M2NWeT0",
        "outputId": "842fc2e1-d522-4948-f21b-8de837584ec4"
      },
      "execution_count": null,
      "outputs": [
        {
          "output_type": "display_data",
          "data": {
            "text/plain": [
              "<IPython.core.display.Markdown object>"
            ],
            "text/markdown": "**hitung_luas_persegi_panjang(panjang, lebar):** Fungsi yang dibuat oleh pengguna (user-defined) untuk menghitung luas persegi panjang. Fungsi ini menerima dua argumen, yaitu `panjang` dan `lebar` persegi panjang, dan mengembalikan hasil perhitungan luasnya."
          },
          "metadata": {}
        }
      ]
    },
    {
      "source": [
        "# Fungsi dengan beberapa tipe parameter (Menerima berbagai jenis data)\n",
        "def info_mahasiswa(nama, umur, ipk):\n",
        "    # Mencetak informasi mahasiswa\n",
        "    print(f\"Nama: {nama}, Umur: {umur}, IPK: {ipk}\")\n",
        "\n",
        "# Menampilkan penjelasan fungsi dengan display(Markdown(...)):\n",
        "from IPython.display import display, Markdown\n",
        "display(Markdown(f\"\"\"\n",
        "**info_mahasiswa(nama, umur, ipk):**\n",
        "Fungsi yang dibuat oleh pengguna (user-defined) untuk mencetak informasi mahasiswa.\n",
        "Fungsi ini menerima tiga argumen:\n",
        "\n",
        "- `nama`: Nama mahasiswa (string)\n",
        "- `umur`: Umur mahasiswa (integer)\n",
        "- `ipk`: IPK mahasiswa (float)\n",
        "\"\"\"))"
      ],
      "cell_type": "code",
      "metadata": {
        "colab": {
          "base_uri": "https://localhost:8080/",
          "height": 104
        },
        "id": "Pd04Re_thecl",
        "outputId": "827845c4-036d-4354-d9dd-8bc25a24e6b9"
      },
      "execution_count": null,
      "outputs": [
        {
          "output_type": "display_data",
          "data": {
            "text/plain": [
              "<IPython.core.display.Markdown object>"
            ],
            "text/markdown": "\n**info_mahasiswa(nama, umur, ipk):**\nFungsi yang dibuat oleh pengguna (user-defined) untuk mencetak informasi mahasiswa.\nFungsi ini menerima tiga argumen:\n\n- `nama`: Nama mahasiswa (string)\n- `umur`: Umur mahasiswa (integer)\n- `ipk`: IPK mahasiswa (float)\n"
          },
          "metadata": {}
        }
      ]
    },
    {
      "source": [
        "# Fungsi tanpa return value (Non-return value)\n",
        "def sapa_pengguna(nama):\n",
        "    # Fungsi ini hanya mencetak sapaan tanpa mengembalikan nilai\n",
        "    print(f\"Halo, {nama}! Selamat datang di dunia Python.\")\n",
        "\n",
        "# Menampilkan penjelasan fungsi dengan display(Markdown(...)):\n",
        "from IPython.display import display, Markdown\n",
        "display(Markdown(\"**sapa_pengguna(nama):** Fungsi yang dibuat oleh pengguna (user-defined) untuk mencetak sapaan kepada pengguna. Fungsi ini menerima satu argumen, yaitu `nama` pengguna (string). Fungsi ini tidak mengembalikan nilai (non-return value), hanya mencetak sapaan ke layar.\"))"
      ],
      "cell_type": "code",
      "metadata": {
        "colab": {
          "base_uri": "https://localhost:8080/",
          "height": 64
        },
        "id": "g-wVGW1pXdLR",
        "outputId": "2389bf9c-7482-491e-d684-596c0552a4c9"
      },
      "execution_count": null,
      "outputs": [
        {
          "output_type": "display_data",
          "data": {
            "text/plain": [
              "<IPython.core.display.Markdown object>"
            ],
            "text/markdown": "**sapa_pengguna(nama):** Fungsi yang dibuat oleh pengguna (user-defined) untuk mencetak sapaan kepada pengguna. Fungsi ini menerima satu argumen, yaitu `nama` pengguna (string). Fungsi ini tidak mengembalikan nilai (non-return value), hanya mencetak sapaan ke layar."
          },
          "metadata": {}
        }
      ]
    },
    {
      "source": [
        "# Fungsi dengan return value\n",
        "def hitung_keliling_persegi(sisi):\n",
        "    # Mengembalikan keliling persegi\n",
        "    return 4 * sisi\n",
        "\n",
        "# Menampilkan penjelasan fungsi dengan display(Markdown(...)):\n",
        "from IPython.display import display, Markdown\n",
        "display(Markdown(\"**hitung_keliling_persegi(sisi):** Fungsi yang dibuat oleh pengguna (user-defined) untuk menghitung keliling persegi. Fungsi ini menerima satu argumen, yaitu `sisi` persegi (number). Fungsi ini mengembalikan nilai keliling persegi.\"))"
      ],
      "cell_type": "code",
      "metadata": {
        "colab": {
          "base_uri": "https://localhost:8080/",
          "height": 64
        },
        "id": "YASB6T24XhOg",
        "outputId": "be8bfec9-19b4-4569-bbbd-9f9e4efca2f8"
      },
      "execution_count": null,
      "outputs": [
        {
          "output_type": "display_data",
          "data": {
            "text/plain": [
              "<IPython.core.display.Markdown object>"
            ],
            "text/markdown": "**hitung_keliling_persegi(sisi):** Fungsi yang dibuat oleh pengguna (user-defined) untuk menghitung keliling persegi. Fungsi ini menerima satu argumen, yaitu `sisi` persegi (number). Fungsi ini mengembalikan nilai keliling persegi."
          },
          "metadata": {}
        }
      ]
    },
    {
      "source": [
        "# Pemanggilan fungsi dengan satu parameter\n",
        "cetak_kuadrat(5)  # Output: Kuadrat dari 5 adalah: 25\n",
        "\n",
        "# Menampilkan penjelasan pemanggilan fungsi dengan display(Markdown(...)):\n",
        "from IPython.display import display, Markdown\n",
        "display(Markdown(\"**cetak_kuadrat(5):** Ini adalah contoh pemanggilan fungsi `cetak_kuadrat` dengan satu argumen, yaitu angka `5`. Fungsi ini akan menghitung dan mencetak kuadrat dari angka 5.\"))"
      ],
      "cell_type": "code",
      "metadata": {
        "colab": {
          "base_uri": "https://localhost:8080/",
          "height": 81
        },
        "id": "4HgvqA__X4sf",
        "outputId": "810f0759-084a-4855-c9d7-f170739ce03c"
      },
      "execution_count": null,
      "outputs": [
        {
          "output_type": "stream",
          "name": "stdout",
          "text": [
            "Kuadrat dari 5 adalah: 25\n"
          ]
        },
        {
          "output_type": "display_data",
          "data": {
            "text/plain": [
              "<IPython.core.display.Markdown object>"
            ],
            "text/markdown": "**cetak_kuadrat(5):** Ini adalah contoh pemanggilan fungsi `cetak_kuadrat` dengan satu argumen, yaitu angka `5`. Fungsi ini akan menghitung dan mencetak kuadrat dari angka 5."
          },
          "metadata": {}
        }
      ]
    },
    {
      "source": [
        "# Pemanggilan fungsi dengan beberapa parameter\n",
        "luas = hitung_luas_persegi_panjang(10, 5)\n",
        "print(f\"Luas persegi panjang: {luas}\")\n",
        "\n",
        "# Menampilkan penjelasan pemanggilan fungsi dengan display(Markdown(...)):\n",
        "from IPython.display import display, Markdown\n",
        "display(Markdown(\"**hitung_luas_persegi_panjang(10, 5):** Ini adalah contoh pemanggilan fungsi `hitung_luas_persegi_panjang` dengan dua argumen, yaitu `panjang = 10` dan `lebar = 5`. Fungsi ini akan menghitung luas persegi panjang dan mengembalikan nilainya, yang kemudian disimpan dalam variabel `luas`. Selanjutnya, nilai `luas` dicetak menggunakan fungsi `print()`.\"))"
      ],
      "cell_type": "code",
      "metadata": {
        "colab": {
          "base_uri": "https://localhost:8080/",
          "height": 98
        },
        "id": "jKOj-WJqYHy-",
        "outputId": "0aef8919-1fe3-4e04-d545-6afa37333748"
      },
      "execution_count": null,
      "outputs": [
        {
          "output_type": "stream",
          "name": "stdout",
          "text": [
            "Luas persegi panjang: 50\n"
          ]
        },
        {
          "output_type": "display_data",
          "data": {
            "text/plain": [
              "<IPython.core.display.Markdown object>"
            ],
            "text/markdown": "**hitung_luas_persegi_panjang(10, 5):** Ini adalah contoh pemanggilan fungsi `hitung_luas_persegi_panjang` dengan dua argumen, yaitu `panjang = 10` dan `lebar = 5`. Fungsi ini akan menghitung luas persegi panjang dan mengembalikan nilainya, yang kemudian disimpan dalam variabel `luas`. Selanjutnya, nilai `luas` dicetak menggunakan fungsi `print()`."
          },
          "metadata": {}
        }
      ]
    },
    {
      "source": [
        "# Pemanggilan fungsi dengan beberapa tipe parameter\n",
        "info_mahasiswa(\"Budi\", 22, 3.8)\n",
        "\n",
        "# Menampilkan penjelasan pemanggilan fungsi dengan display(Markdown(...)):\n",
        "from IPython.display import display, Markdown\n",
        "display(Markdown(f\"\"\"\n",
        "**info_mahasiswa(\"Budi\", 22, 3.8\"):**\n",
        "Ini adalah contoh pemanggilan fungsi `info_mahasiswa` dengan tiga argumen\n",
        "yang memiliki tipe data berbeda:\n",
        "\n",
        "- `\"Budi\"`: Nama mahasiswa (string)\n",
        "- `22`: Umur mahasiswa (integer)\n",
        "- `3.8`: IPK mahasiswa (float)\n",
        "\n",
        "Fungsi ini akan mencetak informasi mahasiswa berdasarkan argumen\n",
        "yang diberikan.\n",
        "\"\"\"))"
      ],
      "cell_type": "code",
      "metadata": {
        "colab": {
          "base_uri": "https://localhost:8080/",
          "height": 145
        },
        "id": "KC6XQuXcgyM0",
        "outputId": "2908d7d4-9e49-4f13-da85-ab9e52fe73ad"
      },
      "execution_count": null,
      "outputs": [
        {
          "output_type": "stream",
          "name": "stdout",
          "text": [
            "Nama: Budi, Umur: 22, IPK: 3.8\n"
          ]
        },
        {
          "output_type": "display_data",
          "data": {
            "text/plain": [
              "<IPython.core.display.Markdown object>"
            ],
            "text/markdown": "\n**info_mahasiswa(\"Budi\", 22, 3.8\"):**\nIni adalah contoh pemanggilan fungsi `info_mahasiswa` dengan tiga argumen\nyang memiliki tipe data berbeda:\n\n- `\"Budi\"`: Nama mahasiswa (string)\n- `22`: Umur mahasiswa (integer)\n- `3.8`: IPK mahasiswa (float)\n\nFungsi ini akan mencetak informasi mahasiswa berdasarkan argumen\nyang diberikan.\n"
          },
          "metadata": {}
        }
      ]
    },
    {
      "source": [
        "# Pemanggilan fungsi tanpa return value\n",
        "sapa_pengguna(\"Andi\")\n",
        "\n",
        "# Menampilkan penjelasan pemanggilan fungsi dengan display(Markdown(...)):\n",
        "from IPython.display import display, Markdown\n",
        "display(Markdown(\"**sapa_pengguna(\\\"Andi\\\"):** Ini adalah contoh pemanggilan fungsi `sapa_pengguna` dengan satu argumen, yaitu nama pengguna `\\\"Andi\\\"`. Fungsi ini akan mencetak sapaan ke layar tetapi tidak mengembalikan nilai.\"))"
      ],
      "cell_type": "code",
      "metadata": {
        "colab": {
          "base_uri": "https://localhost:8080/",
          "height": 81
        },
        "id": "uVu7EpYuYQ-o",
        "outputId": "bd2b10e7-695c-4883-9e1b-548447aa7026"
      },
      "execution_count": null,
      "outputs": [
        {
          "output_type": "stream",
          "name": "stdout",
          "text": [
            "Halo, Andi! Selamat datang di dunia Python.\n"
          ]
        },
        {
          "output_type": "display_data",
          "data": {
            "text/plain": [
              "<IPython.core.display.Markdown object>"
            ],
            "text/markdown": "**sapa_pengguna(\"Andi\"):** Ini adalah contoh pemanggilan fungsi `sapa_pengguna` dengan satu argumen, yaitu nama pengguna `\"Andi\"`. Fungsi ini akan mencetak sapaan ke layar tetapi tidak mengembalikan nilai."
          },
          "metadata": {}
        }
      ]
    },
    {
      "source": [
        "# Pemanggilan fungsi dengan return value\n",
        "keliling = hitung_keliling_persegi(5)\n",
        "print(f\"Keliling persegi dengan sisi 5 adalah: {keliling}\")\n",
        "\n",
        "# Menampilkan penjelasan pemanggilan fungsi dengan display(Markdown(...)):\n",
        "from IPython.display import display, Markdown\n",
        "display(Markdown(\"**hitung_keliling_persegi(5):** Ini adalah contoh pemanggilan fungsi `hitung_keliling_persegi` dengan satu argumen, yaitu `sisi = 5`. Fungsi ini akan menghitung keliling persegi dan mengembalikan nilainya, yang kemudian disimpan dalam variabel `keliling`. Selanjutnya, nilai `keliling` dicetak menggunakan fungsi `print()`.\"))"
      ],
      "cell_type": "code",
      "metadata": {
        "colab": {
          "base_uri": "https://localhost:8080/",
          "height": 98
        },
        "id": "hO07uuzkYUq6",
        "outputId": "4bac5149-762a-4041-f41d-6e0d05f108e5"
      },
      "execution_count": null,
      "outputs": [
        {
          "output_type": "stream",
          "name": "stdout",
          "text": [
            "Keliling persegi dengan sisi 5 adalah: 20\n"
          ]
        },
        {
          "output_type": "display_data",
          "data": {
            "text/plain": [
              "<IPython.core.display.Markdown object>"
            ],
            "text/markdown": "**hitung_keliling_persegi(5):** Ini adalah contoh pemanggilan fungsi `hitung_keliling_persegi` dengan satu argumen, yaitu `sisi = 5`. Fungsi ini akan menghitung keliling persegi dan mengembalikan nilainya, yang kemudian disimpan dalam variabel `keliling`. Selanjutnya, nilai `keliling` dicetak menggunakan fungsi `print()`."
          },
          "metadata": {}
        }
      ]
    },
    {
      "cell_type": "markdown",
      "source": [
        "# Praktikum 2: Modularisasi Kode dengan Fungsi"
      ],
      "metadata": {
        "id": "A8L5YVI9ZKdD"
      }
    },
    {
      "source": [
        "# File utama main.py yang mengimpor modul geometri.py\n",
        "\n",
        "# Mengimpor modul geometri\n",
        "# Modul geometri diasumsikan berisi fungsi-fungsi untuk menghitung luas bangun datar\n",
        "import geometri\n",
        "\n",
        "# Mendefinisikan fungsi utama bernama 'main'\n",
        "def main():\n",
        "    # Menggunakan fungsi dari modul geometri untuk menghitung luas persegi\n",
        "    # Fungsi 'hitung_luas_persegi' dari modul 'geometri' dipanggil dengan argumen 5 (sisi persegi)\n",
        "    # Hasilnya disimpan dalam variabel 'luas_persegi'\n",
        "    luas_persegi = geometri.hitung_luas_persegi(5)\n",
        "    print(f\"Luas persegi dengan sisi 5 adalah: {luas_persegi}\")\n",
        "\n",
        "    # Menggunakan fungsi dari modul geometri untuk menghitung luas persegi panjang\n",
        "    # Fungsi 'hitung_luas_persegi_panjang' dipanggil dengan argumen 10 (panjang) dan 5 (lebar)\n",
        "    # Hasilnya disimpan dalam variabel 'luas_persegi_panjang'\n",
        "    luas_persegi_panjang = geometri.hitung_luas_persegi_panjang(10, 5)\n",
        "    print(f\"Luas persegi panjang dengan panjang 10 dan lebar 5 adalah: {luas_persegi_panjang}\")\n",
        "\n",
        "    # Menggunakan fungsi dari modul geometri untuk menghitung luas lingkaran\n",
        "    # Fungsi 'hitung_luas_lingkaran' dipanggil dengan argumen 7 (jari-jari)\n",
        "    # Hasilnya disimpan dalam variabel 'luas_lingkaran'\n",
        "    luas_lingkaran = geometri.hitung_luas_lingkaran(7)\n",
        "    print(f\"Luas lingkaran dengan jari-jari 7 adalah: {luas_lingkaran}\")\n",
        "\n",
        "# Memeriksa apakah skrip dijalankan sebagai program utama\n",
        "# Jika ya, fungsi 'main' akan dijalankan\n",
        "if __name__ == \"__main__\":\n",
        "    main()\n",
        "\n",
        "# Menampilkan penjelasan dengan display(Markdown(...))\n",
        "from IPython.display import display, Markdown\n",
        "display(Markdown(\"\"\"\n",
        "**Modularisasi Kode dengan Fungsi:**\n",
        "\n",
        "Kode ini mendemonstrasikan modularisasi kode dengan menggunakan fungsi dan modul.\n",
        "\n",
        "**Langkah-langkah:**\n",
        "\n",
        "1. **Mengimpor modul `geometri`:**  `import geometri`\n",
        "   - Pernyataan ini mengimpor modul bernama `geometri` yang berisi definisi fungsi-fungsi untuk menghitung luas bangun datar.\n",
        "2. **Mendefinisikan fungsi `main`:** `def main():`\n",
        "   - Fungsi `main` berisi logika utama program.\n",
        "   - Di dalam fungsi `main`, fungsi-fungsi dari modul `geometri` dipanggil untuk menghitung luas persegi, persegi panjang, dan lingkaran.\n",
        "   - Hasil perhitungan dicetak ke layar menggunakan `print()`.\n",
        "3. **Menjalankan fungsi `main`:** `if __name__ == \"__main__\": main()`\n",
        "   - Kode ini memastikan bahwa fungsi `main` hanya dijalankan jika file dijalankan sebagai program utama (bukan diimpor sebagai modul).\n",
        "\"\"\"))"
      ],
      "cell_type": "code",
      "metadata": {
        "colab": {
          "base_uri": "https://localhost:8080/",
          "height": 336
        },
        "id": "YuEZZpZNcSPU",
        "outputId": "cb41b1c2-d4f0-499d-d3e1-67d07be68319"
      },
      "execution_count": 2,
      "outputs": [
        {
          "output_type": "stream",
          "name": "stdout",
          "text": [
            "Luas persegi dengan sisi 5 adalah: 25\n",
            "Luas persegi panjang dengan panjang 10 dan lebar 5 adalah: 50\n",
            "Luas lingkaran dengan jari-jari 7 adalah: 153.86\n"
          ]
        },
        {
          "output_type": "display_data",
          "data": {
            "text/plain": [
              "<IPython.core.display.Markdown object>"
            ],
            "text/markdown": "\n**Modularisasi Kode dengan Fungsi:**\n\nKode ini mendemonstrasikan modularisasi kode dengan menggunakan fungsi dan modul.\n\n**Langkah-langkah:**\n\n1. **Mengimpor modul `geometri`:**  `import geometri`\n   - Pernyataan ini mengimpor modul bernama `geometri` yang berisi definisi fungsi-fungsi untuk menghitung luas bangun datar.\n2. **Mendefinisikan fungsi `main`:** `def main():`\n   - Fungsi `main` berisi logika utama program.\n   - Di dalam fungsi `main`, fungsi-fungsi dari modul `geometri` dipanggil untuk menghitung luas persegi, persegi panjang, dan lingkaran.\n   - Hasil perhitungan dicetak ke layar menggunakan `print()`.\n3. **Menjalankan fungsi `main`:** `if __name__ == \"__main__\": main()`\n   - Kode ini memastikan bahwa fungsi `main` hanya dijalankan jika file dijalankan sebagai program utama (bukan diimpor sebagai modul).\n"
          },
          "metadata": {}
        }
      ]
    },
    {
      "cell_type": "markdown",
      "source": [
        "# Praktikum 3: Membuat Kelas Sederhana"
      ],
      "metadata": {
        "id": "OQua2hzFcbzc"
      }
    },
    {
      "cell_type": "code",
      "source": [
        "from IPython.display import display, Markdown\n",
        "\n",
        "# Kelas Buku untuk merepresentasikan buku di perpustakaan\n",
        "class Buku:\n",
        "    def __init__(self, judul, pengarang, tahun_terbit):\n",
        "        \"\"\"\n",
        "        Konstruktor untuk inisialisasi objek Buku.\n",
        "\n",
        "        Parameter:\n",
        "        - judul (str): Judul buku\n",
        "        - pengarang (str): Nama pengarang buku\n",
        "        - tahun_terbit (int): Tahun terbit buku\n",
        "\n",
        "        Atribut:\n",
        "        - status (str): Status buku, default adalah \"Tersedia\"\n",
        "        \"\"\"\n",
        "        self.judul = judul\n",
        "        self.pengarang = pengarang\n",
        "        self.tahun_terbit = tahun_terbit\n",
        "        self.status = \"Tersedia\"  # Status buku, default adalah Tersedia\n",
        "\n",
        "    def tampilkan_info(self):\n",
        "        \"\"\"\n",
        "        Menampilkan informasi buku seperti judul, pengarang, tahun terbit, dan status peminjaman.\n",
        "        \"\"\"\n",
        "        print(f\"Judul: {self.judul}\")\n",
        "        print(f\"Pengarang: {self.pengarang}\")\n",
        "        print(f\"Tahun Terbit: {self.tahun_terbit}\")\n",
        "        print(f\"Status: {self.status}\")\n",
        "\n",
        "    def pinjam(self):\n",
        "        \"\"\"\n",
        "        Mengubah status buku menjadi 'Dipinjam' jika tersedia.\n",
        "        Jika buku sudah dipinjam, akan menampilkan pesan bahwa buku sedang dipinjam.\n",
        "        \"\"\"\n",
        "        if self.status == \"Tersedia\":\n",
        "            self.status = \"Dipinjam\"\n",
        "            print(f\"Buku '{self.judul}' telah dipinjam.\")\n",
        "        else:\n",
        "            print(f\"Buku '{self.judul}' sedang dipinjam.\")\n",
        "\n",
        "    def kembalikan(self):\n",
        "        \"\"\"\n",
        "        Mengubah status buku menjadi 'Tersedia' jika sebelumnya dipinjam.\n",
        "        Jika buku sudah tersedia, akan menampilkan pesan bahwa buku tidak sedang dipinjam.\n",
        "        \"\"\"\n",
        "        if self.status == \"Dipinjam\":\n",
        "            self.status = \"Tersedia\"\n",
        "            print(f\"Buku '{self.judul}' telah dikembalikan.\")\n",
        "        else:\n",
        "            print(f\"Buku '{self.judul}' tidak sedang dipinjam.\")\n",
        "\n",
        "# Menampilkan penjelasan tentang kelas Buku dengan catatan (note)\n",
        "display(Markdown(\"\"\"\n",
        "### **Kelas Buku**\n",
        "Kelas ini merepresentasikan sebuah buku dalam sistem perpustakaan.\n",
        "\n",
        "**📌 Catatan:**\n",
        "- Kelas ini memiliki **atribut utama**, yaitu:\n",
        "  - `judul`: Menyimpan judul buku.\n",
        "  - `pengarang`: Menyimpan nama pengarang buku.\n",
        "  - `tahun_terbit`: Menyimpan tahun terbit buku.\n",
        "  - `status`: Menunjukkan status buku, apakah **Tersedia** atau **Dipinjam**.\n",
        "\n",
        "- Kelas ini juga memiliki **metode utama**, yaitu:\n",
        "  1. `tampilkan_info()`: Menampilkan informasi detail buku.\n",
        "  2. `pinjam()`: Mengubah status buku menjadi **\"Dipinjam\"** jika tersedia.\n",
        "  3. `kembalikan()`: Mengubah status buku menjadi **\"Tersedia\"** jika sebelumnya dipinjam.\n",
        "\n",
        "> **💡 Note:**\n",
        "> Jika buku sudah dipinjam dan pengguna mencoba meminjamnya lagi, sistem akan memberikan pesan bahwa buku sedang dipinjam.\n",
        "> Begitu pula jika buku dikembalikan dalam kondisi sudah tersedia, sistem akan memberikan peringatan.\n",
        "\"\"\"))\n",
        "\n",
        "# Membuat objek dari kelas Buku\n",
        "buku1 = Buku(\"Pemrograman Python\", \"John Doe\", 2021)\n",
        "buku2 = Buku(\"Data Science untuk Pemula\", \"Jane Smith\", 2020)\n",
        "\n",
        "# Menggunakan metode objek Buku\n",
        "buku1.tampilkan_info()\n",
        "buku2.pinjam()\n",
        "\n",
        "# Mengubah status buku dan menampilkan informasi\n",
        "buku2.kembalikan()\n",
        "buku1.pinjam()\n",
        "buku1.tampilkan_info()\n"
      ],
      "metadata": {
        "colab": {
          "base_uri": "https://localhost:8080/"
        },
        "id": "6ixTrH5vhpwq",
        "outputId": "8c8b2800-f1db-4357-b28f-859ebfe27291"
      },
      "execution_count": null,
      "outputs": [
        {
          "output_type": "display_data",
          "data": {
            "text/plain": [
              "<IPython.core.display.Markdown object>"
            ],
            "text/markdown": "\n### **Kelas Buku**\nKelas ini merepresentasikan sebuah buku dalam sistem perpustakaan.\n\n**📌 Catatan:**\n- Kelas ini memiliki **atribut utama**, yaitu:\n  - `judul`: Menyimpan judul buku.\n  - `pengarang`: Menyimpan nama pengarang buku.\n  - `tahun_terbit`: Menyimpan tahun terbit buku.\n  - `status`: Menunjukkan status buku, apakah **Tersedia** atau **Dipinjam**.\n\n- Kelas ini juga memiliki **metode utama**, yaitu:\n  1. `tampilkan_info()`: Menampilkan informasi detail buku.\n  2. `pinjam()`: Mengubah status buku menjadi **\"Dipinjam\"** jika tersedia.\n  3. `kembalikan()`: Mengubah status buku menjadi **\"Tersedia\"** jika sebelumnya dipinjam.\n\n> **💡 Note:**\n> Jika buku sudah dipinjam dan pengguna mencoba meminjamnya lagi, sistem akan memberikan pesan bahwa buku sedang dipinjam.\n> Begitu pula jika buku dikembalikan dalam kondisi sudah tersedia, sistem akan memberikan peringatan.\n"
          },
          "metadata": {}
        },
        {
          "output_type": "stream",
          "name": "stdout",
          "text": [
            "Judul: Pemrograman Python\n",
            "Pengarang: John Doe\n",
            "Tahun Terbit: 2021\n",
            "Status: Tersedia\n",
            "Buku 'Data Science untuk Pemula' telah dipinjam.\n",
            "Buku 'Data Science untuk Pemula' telah dikembalikan.\n",
            "Buku 'Pemrograman Python' telah dipinjam.\n",
            "Judul: Pemrograman Python\n",
            "Pengarang: John Doe\n",
            "Tahun Terbit: 2021\n",
            "Status: Dipinjam\n"
          ]
        }
      ]
    },
    {
      "cell_type": "code",
      "source": [
        "from IPython.display import display, Markdown\n",
        "\n",
        "# Kelas Mahasiswa untuk merepresentasikan Mahasiswa dalam kelas\n",
        "class Mahasiswa:\n",
        "    # Konstruktor (__init__) untuk menginisialisasi atribut objek\n",
        "    def __init__(self, nama, nim, umur):\n",
        "        \"\"\"\n",
        "        Konstruktor untuk inisialisasi objek Mahasiswa.\n",
        "\n",
        "        Parameter:\n",
        "        - nama (str): Nama mahasiswa\n",
        "        - nim (str): Nomor Induk Mahasiswa (NIM)\n",
        "        - umur (int): Usia mahasiswa\n",
        "        \"\"\"\n",
        "        self.nama = nama  # Atribut objek nama\n",
        "        self.nim = nim    # Atribut objek nim\n",
        "        self.umur = umur  # Atribut objek umur\n",
        "\n",
        "    # Metode untuk menampilkan informasi mahasiswa\n",
        "    def tampilkan_info(self):\n",
        "        \"\"\"\n",
        "        Menampilkan informasi mahasiswa, termasuk nama, NIM, dan umur.\n",
        "        \"\"\"\n",
        "        print(f\"Nama: {self.nama}\")\n",
        "        print(f\"NIM: {self.nim}\")\n",
        "        print(f\"Umur: {self.umur} tahun\")\n",
        "\n",
        "    # Metode untuk mengubah umur mahasiswa\n",
        "    def ubah_umur(self, umur_baru):\n",
        "        \"\"\"\n",
        "        Mengubah atribut umur mahasiswa dengan nilai baru.\n",
        "\n",
        "        Parameter:\n",
        "        - umur_baru (int): Umur baru mahasiswa yang akan diperbarui\n",
        "        \"\"\"\n",
        "        self.umur = umur_baru\n",
        "\n",
        "# Menampilkan penjelasan tentang kelas Mahasiswa dengan catatan (note)\n",
        "display(Markdown(\"\"\"\n",
        "### **Kelas Mahasiswa**\n",
        "Kelas ini merepresentasikan seorang mahasiswa dalam sistem akademik.\n",
        "\n",
        "**📌 Catatan:**\n",
        "- Kelas ini memiliki **atribut utama**, yaitu:\n",
        "  - `nama`: Menyimpan nama mahasiswa.\n",
        "  - `nim`: Menyimpan Nomor Induk Mahasiswa (NIM).\n",
        "  - `umur`: Menyimpan usia mahasiswa.\n",
        "\n",
        "- Kelas ini juga memiliki **metode utama**, yaitu:\n",
        "  1. `tampilkan_info()`: Menampilkan informasi detail mahasiswa.\n",
        "  2. `ubah_umur(umur_baru)`: Mengubah umur mahasiswa dengan nilai baru.\n",
        "\n",
        "> **💡 Note:**\n",
        "> Setelah umur mahasiswa diperbarui dengan metode `ubah_umur()`, panggil kembali `tampilkan_info()` untuk melihat perubahan yang terjadi.\n",
        "\"\"\"))\n",
        "\n",
        "# Membuat objek (instance) dari kelas Mahasiswa\n",
        "mahasiswa1 = Mahasiswa(\"Andi\", \"12345\", 20)\n",
        "mahasiswa2 = Mahasiswa(\"Budi\", \"67890\", 22)\n",
        "\n",
        "# Menggunakan metode dari kelas Mahasiswa\n",
        "mahasiswa1.tampilkan_info()\n",
        "print()  # Baris kosong untuk tampilan lebih rapi\n",
        "mahasiswa2.tampilkan_info()\n",
        "\n",
        "# Mengubah umur mahasiswa1 menggunakan metode ubah_umur\n",
        "mahasiswa1.ubah_umur(21)\n",
        "\n",
        "# Menampilkan info mahasiswa setelah umur diubah\n",
        "print(\"\\nSetelah mengubah umur mahasiswa1:\")\n",
        "mahasiswa1.tampilkan_info()\n"
      ],
      "metadata": {
        "colab": {
          "base_uri": "https://localhost:8080/"
        },
        "id": "ZcuEAtIDiFHT",
        "outputId": "2fd8bbb9-e993-4835-cca9-bd7519387eba"
      },
      "execution_count": null,
      "outputs": [
        {
          "output_type": "display_data",
          "data": {
            "text/plain": [
              "<IPython.core.display.Markdown object>"
            ],
            "text/markdown": "\n### **Kelas Mahasiswa**\nKelas ini merepresentasikan seorang mahasiswa dalam sistem akademik.\n\n**📌 Catatan:**\n- Kelas ini memiliki **atribut utama**, yaitu:\n  - `nama`: Menyimpan nama mahasiswa.\n  - `nim`: Menyimpan Nomor Induk Mahasiswa (NIM).\n  - `umur`: Menyimpan usia mahasiswa.\n\n- Kelas ini juga memiliki **metode utama**, yaitu:\n  1. `tampilkan_info()`: Menampilkan informasi detail mahasiswa.\n  2. `ubah_umur(umur_baru)`: Mengubah umur mahasiswa dengan nilai baru.\n\n> **💡 Note:**\n> Setelah umur mahasiswa diperbarui dengan metode `ubah_umur()`, panggil kembali `tampilkan_info()` untuk melihat perubahan yang terjadi.\n"
          },
          "metadata": {}
        },
        {
          "output_type": "stream",
          "name": "stdout",
          "text": [
            "Nama: Andi\n",
            "NIM: 12345\n",
            "Umur: 20 tahun\n",
            "\n",
            "Nama: Budi\n",
            "NIM: 67890\n",
            "Umur: 22 tahun\n",
            "\n",
            "Setelah mengubah umur mahasiswa1:\n",
            "Nama: Andi\n",
            "NIM: 12345\n",
            "Umur: 21 tahun\n"
          ]
        }
      ]
    },
    {
      "cell_type": "markdown",
      "source": [
        "# Praktikum 4: Membuat dan Menggunakan Method dalam Kelas"
      ],
      "metadata": {
        "id": "VMy57O1hvUM-"
      }
    },
    {
      "cell_type": "code",
      "source": [
        "from IPython.display import display, Markdown\n",
        "\n",
        "# Kelas untuk menjelaskan atribut dan metode dalam kelas\n",
        "class Mobil:\n",
        "    def __init__(self, merk, warna, tahun, harga):\n",
        "        \"\"\"\n",
        "        Konstruktor untuk inisialisasi objek Mobil.\n",
        "\n",
        "        Parameter:\n",
        "        - merk (str): Merek mobil\n",
        "        - warna (str): Warna mobil\n",
        "        - tahun (int): Tahun pembuatan mobil\n",
        "        - harga (int): Harga mobil dalam rupiah\n",
        "        \"\"\"\n",
        "        self.merk = merk\n",
        "        self.warna = warna\n",
        "        self.tahun = tahun\n",
        "        self.harga = harga\n",
        "\n",
        "    # Fungsi tanpa return value, hanya mencetak informasi\n",
        "    def tampilkan_info(self):\n",
        "        \"\"\"\n",
        "        Menampilkan informasi mobil seperti merk, warna, tahun, dan harga.\n",
        "        \"\"\"\n",
        "        print(f\"Mobil {self.merk} berwarna {self.warna}, tahun {self.tahun}, harga: Rp {self.harga}\")\n",
        "\n",
        "    # Fungsi dengan satu parameter\n",
        "    def diskon(self, persen_diskon):\n",
        "        \"\"\"\n",
        "        Menghitung harga setelah diskon dan mencetaknya.\n",
        "\n",
        "        Parameter:\n",
        "        - persen_diskon (float): Persentase diskon yang diberikan\n",
        "        \"\"\"\n",
        "        diskon_harga = self.harga * (persen_diskon / 100)\n",
        "        harga_setelah_diskon = self.harga - diskon_harga\n",
        "        print(f\"Harga setelah diskon {persen_diskon}%: Rp {harga_setelah_diskon}\")\n",
        "\n",
        "    # Fungsi dengan return value, menghitung usia mobil berdasarkan tahun\n",
        "    def hitung_usia(self, tahun_sekarang):\n",
        "        \"\"\"\n",
        "        Menghitung usia mobil berdasarkan tahun sekarang.\n",
        "\n",
        "        Parameter:\n",
        "        - tahun_sekarang (int): Tahun saat ini\n",
        "\n",
        "        Return:\n",
        "        - usia (int): Usia mobil dalam tahun\n",
        "        \"\"\"\n",
        "        usia = tahun_sekarang - self.tahun\n",
        "        return usia\n",
        "\n",
        "    # Fungsi dengan beberapa parameter\n",
        "    def perbarui_harga(self, harga_baru, tahun_baru):\n",
        "        \"\"\"\n",
        "        Memperbarui harga dan tahun produksi mobil.\n",
        "\n",
        "        Parameter:\n",
        "        - harga_baru (int): Harga baru mobil dalam rupiah\n",
        "        - tahun_baru (int): Tahun produksi baru\n",
        "        \"\"\"\n",
        "        self.harga = harga_baru\n",
        "        self.tahun = tahun_baru\n",
        "        print(f\"Harga dan tahun mobil {self.merk} diperbarui menjadi Rp {self.harga} dan tahun {self.tahun}\")\n",
        "\n",
        "# Menampilkan penjelasan tentang kelas Mobil dengan catatan (note)\n",
        "display(Markdown(\"\"\"\n",
        "### **Kelas Mobil**\n",
        "Kelas ini merepresentasikan objek mobil dengan beberapa atribut dan metode.\n",
        "\n",
        "**📌 Catatan:**\n",
        "- **Atribut utama dalam kelas ini:**\n",
        "  - `merk`: Merek mobil\n",
        "  - `warna`: Warna mobil\n",
        "  - `tahun`: Tahun produksi mobil\n",
        "  - `harga`: Harga mobil dalam rupiah\n",
        "\n",
        "- **Metode utama dalam kelas ini:**\n",
        "  1. `tampilkan_info()`: Menampilkan informasi mobil.\n",
        "  2. `diskon(persen_diskon)`: Menghitung dan mencetak harga mobil setelah diskon.\n",
        "  3. `hitung_usia(tahun_sekarang)`: Mengembalikan usia mobil berdasarkan tahun sekarang.\n",
        "  4. `perbarui_harga(harga_baru, tahun_baru)`: Memperbarui harga dan tahun produksi mobil.\n",
        "\n",
        "> **💡 Note:**\n",
        "> - Metode `diskon()` hanya menampilkan harga setelah diskon, tidak mengubah harga asli mobil.\n",
        "> - Untuk mendapatkan usia mobil, gunakan metode `hitung_usia()` dengan parameter tahun saat ini.\n",
        "\"\"\"))\n",
        "\n",
        "# Membuat objek mobil\n",
        "mobil1 = Mobil(\"Toyota\", \"Hitam\", 2015, 300000000)\n",
        "mobil2 = Mobil(\"Honda\", \"Merah\", 2018, 250000000)\n",
        "\n",
        "# Menggunakan metode tanpa return value\n",
        "mobil1.tampilkan_info()\n",
        "mobil2.tampilkan_info()\n",
        "\n",
        "# Menggunakan metode dengan satu parameter (diskon)\n",
        "mobil1.diskon(10)\n",
        "mobil2.diskon(15)\n",
        "\n",
        "# Menggunakan metode dengan return value (hitung usia mobil)\n",
        "usia_mobil1 = mobil1.hitung_usia(2025)\n",
        "usia_mobil2 = mobil2.hitung_usia(2025)\n",
        "\n",
        "print(f\"Usia mobil1 pada tahun 2025: {usia_mobil1} tahun\")\n",
        "print(f\"Usia mobil2 pada tahun 2025: {usia_mobil2} tahun\")\n",
        "\n",
        "# Menggunakan metode dengan beberapa parameter (perbarui harga dan tahun)\n",
        "mobil1.perbarui_harga(280000000, 2022)\n",
        "mobil2.perbarui_harga(240000000, 2021)\n"
      ],
      "metadata": {
        "colab": {
          "base_uri": "https://localhost:8080/"
        },
        "id": "Gga2lKzov5jr",
        "outputId": "3ad16202-c617-4e5a-b853-e1c335949281"
      },
      "execution_count": null,
      "outputs": [
        {
          "output_type": "display_data",
          "data": {
            "text/plain": [
              "<IPython.core.display.Markdown object>"
            ],
            "text/markdown": "\n### **Kelas Mobil**\nKelas ini merepresentasikan objek mobil dengan beberapa atribut dan metode.\n\n**📌 Catatan:**\n- **Atribut utama dalam kelas ini:**\n  - `merk`: Merek mobil\n  - `warna`: Warna mobil\n  - `tahun`: Tahun produksi mobil\n  - `harga`: Harga mobil dalam rupiah\n\n- **Metode utama dalam kelas ini:**\n  1. `tampilkan_info()`: Menampilkan informasi mobil.\n  2. `diskon(persen_diskon)`: Menghitung dan mencetak harga mobil setelah diskon.\n  3. `hitung_usia(tahun_sekarang)`: Mengembalikan usia mobil berdasarkan tahun sekarang.\n  4. `perbarui_harga(harga_baru, tahun_baru)`: Memperbarui harga dan tahun produksi mobil.\n\n> **💡 Note:**\n> - Metode `diskon()` hanya menampilkan harga setelah diskon, tidak mengubah harga asli mobil.\n> - Untuk mendapatkan usia mobil, gunakan metode `hitung_usia()` dengan parameter tahun saat ini.\n"
          },
          "metadata": {}
        },
        {
          "output_type": "stream",
          "name": "stdout",
          "text": [
            "Mobil Toyota berwarna Hitam, tahun 2015, harga: Rp 300000000\n",
            "Mobil Honda berwarna Merah, tahun 2018, harga: Rp 250000000\n",
            "Harga setelah diskon 10%: Rp 270000000.0\n",
            "Harga setelah diskon 15%: Rp 212500000.0\n",
            "Usia mobil1 pada tahun 2025: 10 tahun\n",
            "Usia mobil2 pada tahun 2025: 7 tahun\n",
            "Harga dan tahun mobil Toyota diperbarui menjadi Rp 280000000 dan tahun 2022\n",
            "Harga dan tahun mobil Honda diperbarui menjadi Rp 240000000 dan tahun 2021\n"
          ]
        }
      ]
    },
    {
      "cell_type": "markdown",
      "source": [
        "# Modularisasi Jadwal"
      ],
      "metadata": {
        "id": "mXKjMBcRwaQJ"
      }
    },
    {
      "cell_type": "code",
      "source": [
        "# main.py\n",
        "\n",
        "import jadwal  # Mengimpor modul jadwal\n",
        "\n",
        "def main():\n",
        "    print(\"Selamat datang di Sistem Jadwal Kelas!\")\n",
        "\n",
        "    while True:\n",
        "        hari = input(\"\\nMasukkan nama hari (atau ketik 'exit' untuk keluar): \").strip()\n",
        "\n",
        "        if hari.lower() == \"exit\":\n",
        "            print(\"Terima kasih! Sampai jumpa.\")\n",
        "            break\n",
        "\n",
        "        jadwal.tampilkan_jadwal(hari)\n",
        "\n",
        "if __name__ == \"__main__\":\n",
        "    main()\n"
      ],
      "metadata": {
        "colab": {
          "base_uri": "https://localhost:8080/"
        },
        "id": "yl_bQbr7zgqG",
        "outputId": "f50ddcc3-3b72-476a-db54-213ec93cf858"
      },
      "execution_count": 3,
      "outputs": [
        {
          "output_type": "stream",
          "name": "stdout",
          "text": [
            "Selamat datang di Sistem Jadwal Kelas!\n",
            "\n",
            "Masukkan nama hari (atau ketik 'exit' untuk keluar): senin\n",
            "\n",
            "Jadwal kuliah hari Senin:\n",
            "08:30 - 10:20: Bahasa Inggris\n",
            "12:30 - 17:30: Teknik Digital dan Sistem Tertanam\n",
            "\n",
            "Masukkan nama hari (atau ketik 'exit' untuk keluar): kamis\n",
            "\n",
            "Jadwal kuliah hari Kamis:\n",
            "12:30 - 17:30: Jaringan Komputer I\n",
            "17:30 - 19:30: Pendidikan Kewarganegaraan\n",
            "\n",
            "Masukkan nama hari (atau ketik 'exit' untuk keluar): selasa\n",
            "\n",
            "Jadwal kuliah hari Selasa:\n",
            "07:00 - 11:50: Kecerdasan Buatan\n",
            "\n",
            "Masukkan nama hari (atau ketik 'exit' untuk keluar): Rabu\n",
            "\n",
            "Jadwal kuliah hari Rabu:\n",
            "12:30 - 17:30: Sistem Basis Data II\n",
            "17:30 - 19:30: Pemrograman Berbasis Objek\n",
            "\n",
            "Masukkan nama hari (atau ketik 'exit' untuk keluar): exit\n",
            "Terima kasih! Sampai jumpa.\n"
          ]
        }
      ]
    },
    {
      "cell_type": "markdown",
      "source": [
        "# Kelas Sederhana Jadwal"
      ],
      "metadata": {
        "id": "rsQrlgjBzSOX"
      }
    },
    {
      "cell_type": "code",
      "source": [
        "from IPython.display import display, Markdown\n",
        "\n",
        "# Kelas Jadwal untuk merepresentasikan mata kuliah\n",
        "class Jadwal:\n",
        "    def __init__(self, hari, mata_kuliah, waktu):\n",
        "        \"\"\"\n",
        "        Konstruktor untuk inisialisasi objek Jadwal.\n",
        "\n",
        "        Parameter:\n",
        "        - hari (str): Nama hari dalam bahasa Indonesia\n",
        "        - mata_kuliah (str): Nama mata kuliah\n",
        "        - waktu (str): Waktu kuliah dalam format HH:MM - HH:MM\n",
        "        \"\"\"\n",
        "        self.hari = hari\n",
        "        self.mata_kuliah = mata_kuliah\n",
        "        self.waktu = waktu\n",
        "\n",
        "    def tampilkan_info(self):\n",
        "        \"\"\"\n",
        "        Menampilkan informasi jadwal mata kuliah.\n",
        "        \"\"\"\n",
        "        print(f\"Hari: {self.hari}\")\n",
        "        print(f\"Mata Kuliah: {self.mata_kuliah}\")\n",
        "        print(f\"Waktu: {self.waktu}\\n\")\n",
        "\n",
        "# Membuat daftar objek dari kelas Jadwal sesuai dengan jadwal kuliahmu\n",
        "jadwal_kuliah = [\n",
        "    Jadwal(\"Senin\", \"Bahasa Inggris\", \"08:30 - 10:20\"),\n",
        "    Jadwal(\"Senin\", \"Teknik Digital dan Sistem Tertanam\", \"12:30 - 17:30\"),\n",
        "    Jadwal(\"Selasa\", \"Kecerdasan Buatan\", \"07:00 - 11:50\"),\n",
        "    Jadwal(\"Rabu\", \"Sistem Basis Data II\", \"12:30 - 17:30\"),\n",
        "    Jadwal(\"Rabu\", \"Pemrograman Berbasis Objek\", \"17:30 - 19:30\"),\n",
        "    Jadwal(\"Jumat\", \"Mata Kuliah Tidak Disebutkan\", \"07:00 - 10:20\"),\n",
        "    Jadwal(\"Jumat\", \"Statistika\", \"14:45 - 18:15\"),\n",
        "    Jadwal(\"Sabtu\", \"Jaringan Komputer I\", \"12:30 - 17:30\"),\n",
        "    Jadwal(\"Sabtu\", \"Pendidikan Kewarganegaraan\", \"17:30 - 19:30\"),\n",
        "]\n",
        "\n",
        "# Menampilkan semua jadwal kuliah\n",
        "print(\"📅 Jadwal Kuliah Anda:\\n\")\n",
        "for jadwal in jadwal_kuliah:\n",
        "    jadwal.tampilkan_info()\n"
      ],
      "metadata": {
        "colab": {
          "base_uri": "https://localhost:8080/"
        },
        "id": "hO2YNNcA1QVY",
        "outputId": "af412371-9da3-4fcf-9cf1-2e03be3f2f35"
      },
      "execution_count": null,
      "outputs": [
        {
          "output_type": "stream",
          "name": "stdout",
          "text": [
            "📅 Jadwal Kuliah Anda:\n",
            "\n",
            "Hari: Senin\n",
            "Mata Kuliah: Bahasa Inggris\n",
            "Waktu: 08:30 - 10:20\n",
            "\n",
            "Hari: Senin\n",
            "Mata Kuliah: Teknik Digital dan Sistem Tertanam\n",
            "Waktu: 12:30 - 17:30\n",
            "\n",
            "Hari: Selasa\n",
            "Mata Kuliah: Kecerdasan Buatan\n",
            "Waktu: 07:00 - 11:50\n",
            "\n",
            "Hari: Rabu\n",
            "Mata Kuliah: Sistem Basis Data II\n",
            "Waktu: 12:30 - 17:30\n",
            "\n",
            "Hari: Rabu\n",
            "Mata Kuliah: Pemrograman Berbasis Objek\n",
            "Waktu: 17:30 - 19:30\n",
            "\n",
            "Hari: Jumat\n",
            "Mata Kuliah: Mata Kuliah Tidak Disebutkan\n",
            "Waktu: 07:00 - 10:20\n",
            "\n",
            "Hari: Jumat\n",
            "Mata Kuliah: Statistika\n",
            "Waktu: 14:45 - 18:15\n",
            "\n",
            "Hari: Sabtu\n",
            "Mata Kuliah: Jaringan Komputer I\n",
            "Waktu: 12:30 - 17:30\n",
            "\n",
            "Hari: Sabtu\n",
            "Mata Kuliah: Pendidikan Kewarganegaraan\n",
            "Waktu: 17:30 - 19:30\n",
            "\n"
          ]
        }
      ]
    }
  ]
}