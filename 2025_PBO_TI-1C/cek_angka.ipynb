{
  "cells": [
    {
      "cell_type": "markdown",
      "metadata": {
        "colab_type": "text",
        "id": "view-in-github"
      },
      "source": [
        "<a href=\"https://colab.research.google.com/github/terra2n/2025_PBO_TI-1C/blob/main/cek_angka.ipynb\" target=\"_parent\"><img src=\"https://colab.research.google.com/assets/colab-badge.svg\" alt=\"Open In Colab\"/></a>"
      ]
    },
    {
      "cell_type": "code",
      "execution_count": null,
      "metadata": {
        "colab": {
          "base_uri": "https://localhost:8080/"
        },
        "id": "g3sYL2u0OG2s",
        "outputId": "bf073b15-05dc-48bb-e1a4-286aa4e7443c"
      },
      "outputs": [
        {
          "name": "stdout",
          "output_type": "stream",
          "text": [
            "==================================================\n",
            "            PROGRAM CEK BILANGAN\n",
            "==================================================\n",
            "Masukkan bilangan bulat yang ingin diperiksa: q\n",
            "Input tidak valid! Harap masukkan bilangan bulat.\n",
            "Masukkan bilangan bulat yang ingin diperiksa: 1\n",
            "\n",
            "✔ Angka 1 adalah bilangan Ganjil\n",
            "❌ Angka 1 BUKAN bilangan Prima\n",
            "\n",
            "Apakah Anda ingin keluar? (Y/N): -1\n",
            "Input tidak valid! Harap masukkan Y atau N.\n",
            "\n",
            "Apakah Anda ingin keluar? (Y/N): 2\n",
            "Input tidak valid! Harap masukkan Y atau N.\n",
            "\n",
            "Apakah Anda ingin keluar? (Y/N): u\n",
            "Input tidak valid! Harap masukkan Y atau N.\n",
            "\n",
            "Apakah Anda ingin keluar? (Y/N): y\n",
            "\n",
            "===== Terima kasih telah menggunakan program ini! =====\n"
          ]
        }
      ],
      "source": [
        "import os\n",
        "\n",
        "# coba\n",
        "def is_prime(angka):\n",
        "    \"\"\"Fungsi untuk mengecek apakah angka adalah bilangan prima.\"\"\"\n",
        "    if angka < 2:\n",
        "        return False\n",
        "    for i in range(2, int(angka**0.5) + 1):\n",
        "        if angka % i == 0:\n",
        "            return False\n",
        "    return True\n",
        "\n",
        "def find_factors(angka):\n",
        "    \"\"\"Fungsi untuk menemukan faktor pembagi selain 1 dan dirinya sendiri.\"\"\"\n",
        "    return [i for i in range(2, angka) if angka % i == 0]\n",
        "\n",
        "while True:\n",
        "    os.system(\"cls\" if os.name == \"nt\" else \"clear\")  # Membersihkan layar\n",
        "\n",
        "    print(\"=\" * 50)\n",
        "    print(\"            PROGRAM CEK BILANGAN\")\n",
        "    print(\"=\" * 50)\n",
        "\n",
        "    while True:\n",
        "        try:\n",
        "            angka = int(input(\"Masukkan bilangan bulat yang ingin diperiksa: \"))\n",
        "            break\n",
        "        except ValueError:\n",
        "            print(\"Input tidak valid! Harap masukkan bilangan bulat.\")\n",
        "\n",
        "    # Cek Ganjil / Genap\n",
        "    jenis_bilangan = \"Genap\" if angka % 2 == 0 else \"Ganjil\"\n",
        "    print(f\"\\n✔ Angka {angka} adalah bilangan {jenis_bilangan}\")\n",
        "\n",
        "    # Cek Bilangan Prima\n",
        "    if is_prime(angka):\n",
        "        print(f\"✔ Angka {angka} adalah bilangan Prima\")\n",
        "    else:\n",
        "        print(f\"❌ Angka {angka} BUKAN bilangan Prima\")\n",
        "        faktor = find_factors(angka)\n",
        "        if faktor:\n",
        "            print(f\"   Faktor pembagi selain 1 dan {angka}: {', '.join(map(str, faktor))}\")\n",
        "\n",
        "    # Opsi keluar\n",
        "    while True:\n",
        "        keluar = input(\"\\nApakah Anda ingin keluar? (Y/N): \").strip().upper()\n",
        "        if keluar in (\"Y\", \"N\"):\n",
        "            break\n",
        "        print(\"Input tidak valid! Harap masukkan Y atau N.\")\n",
        "\n",
        "    if keluar == \"Y\":\n",
        "        break\n",
        "\n",
        "print(\"\\n===== Terima kasih telah menggunakan program ini! =====\")\n",
        "\n"
      ]
    }
  ],
  "metadata": {
    "colab": {
      "authorship_tag": "ABX9TyMgQJLizN18XNyPh4+OvDkv",
      "include_colab_link": true,
      "provenance": []
    },
    "kernelspec": {
      "display_name": "Python 3",
      "name": "python3"
    },
    "language_info": {
      "name": "python"
    }
  },
  "nbformat": 4,
  "nbformat_minor": 0
}
