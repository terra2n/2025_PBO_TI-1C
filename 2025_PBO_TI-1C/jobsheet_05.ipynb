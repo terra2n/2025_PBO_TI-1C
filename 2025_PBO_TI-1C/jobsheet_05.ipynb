{
  "nbformat": 4,
  "nbformat_minor": 0,
  "metadata": {
    "colab": {
      "provenance": [],
      "authorship_tag": "ABX9TyOSV8R/DSnajB09jJkPLc34",
      "include_colab_link": true
    },
    "kernelspec": {
      "name": "python3",
      "display_name": "Python 3"
    },
    "language_info": {
      "name": "python"
    }
  },
  "cells": [
    {
      "cell_type": "markdown",
      "metadata": {
        "id": "view-in-github",
        "colab_type": "text"
      },
      "source": [
        "<a href=\"https://colab.research.google.com/github/terra2n/2025_PBO_TI-1C/blob/main/jobsheet_05.ipynb\" target=\"_parent\"><img src=\"https://colab.research.google.com/assets/colab-badge.svg\" alt=\"Open In Colab\"/></a>"
      ]
    },
    {
      "cell_type": "markdown",
      "source": [
        "# Langkah Praktikum"
      ],
      "metadata": {
        "id": "3ULS-TvApaVi"
      }
    },
    {
      "cell_type": "markdown",
      "source": [
        "## Praktikum 01 : Polimorfisme dengan Inheritance dan Overriding"
      ],
      "metadata": {
        "id": "6582vqchpgSj"
      }
    },
    {
      "cell_type": "code",
      "execution_count": null,
      "metadata": {
        "id": "FSuTyDgzFxCg",
        "outputId": "16d52721-d11a-4d85-9e6c-ba6bb07e6962",
        "colab": {
          "base_uri": "https://localhost:8080/"
        }
      },
      "outputs": [
        {
          "output_type": "stream",
          "name": "stdout",
          "text": [
            "\n",
            "Aksi burung:\n",
            "-- Aksi untuk Elang Jawa --\n",
            "Elang Jawa berteriak nyaring.\n",
            "Elang Jawa terbang tinggi melayang di angkasa.\n",
            "---------------\n",
            "-- Aksi untuk Pipit Gereja --\n",
            "Pipit Gereja berkicau merdu: Cit cit!\n",
            "Pipit Gereja terbang cepat diantara pepohonan.\n",
            "---------------\n",
            "-- Aksi untuk Burung Aneh --\n",
            "Burung Aneh mengeluarkan suara burung.\n",
            "Burung Aneh terbang dengan cara umum.\n",
            "---------------\n"
          ]
        }
      ],
      "source": [
        "# Kelas Induk\n",
        "class Burung:\n",
        "  def __init__(self, nama):\n",
        "    self.nama = nama\n",
        "  def terbang(self):\n",
        "    print(f\"{self.nama} terbang dengan cara umum.\")\n",
        "  def bersuara(self):\n",
        "    print(f\"{self.nama} mengeluarkan suara burung.\")\n",
        "\n",
        "# Kelas Anak 1\n",
        "class Elang(Burung):\n",
        "  def __init__(self, nama,rentang_sayap):\n",
        "    super().__init__(nama)\n",
        "    self.rentang_sayap = rentang_sayap\n",
        "  def terbang(self):\n",
        "    print(f\"{self.nama} terbang tinggi melayang di angkasa.\")\n",
        "  def bersuara(self):\n",
        "    print(f\"{self.nama} berteriak nyaring.\")\n",
        "\n",
        "# kelas Anak 2\n",
        "class Pipit(Burung):\n",
        "  def __init__(self, nama, warna_bulu):\n",
        "    super().__init__(nama)\n",
        "    self.warna_bulu = warna_bulu\n",
        "  def terbang(self):\n",
        "    print(f\"{self.nama} terbang cepat diantara pepohonan.\")\n",
        "  def bersuara(self):\n",
        "    print(f\"{self.nama} berkicau merdu: Cit cit!\")\n",
        "\n",
        "# Fungsi yang memanfaatkan polimorfisme\n",
        "def demonstrasi_aksi_burung(daftar_burung):\n",
        "  print(\"\\nAksi burung:\")\n",
        "  for burung in daftar_burung:\n",
        "    print(f\"-- Aksi untuk {burung.nama} --\")\n",
        "    burung.bersuara()\n",
        "    burung.terbang()\n",
        "    print(\"-\" * 15)\n",
        "\n",
        "# Kode Utama\n",
        "if __name__ == \"__main__\":\n",
        "  elang_jawa = Elang(\"Elang Jawa\", 1.5)\n",
        "  pipit_gereja = Pipit(\"Pipit Gereja\", \"Coklat\")\n",
        "  burung_aneh = Burung(\"Burung Aneh\")\n",
        "\n",
        "  koleksi_burung = [elang_jawa, pipit_gereja, burung_aneh]\n",
        "\n",
        "  demonstrasi_aksi_burung(koleksi_burung)"
      ]
    },
    {
      "cell_type": "markdown",
      "source": [
        "## Praktikum 02 : Polimorfisme dengan Duck Typing"
      ],
      "metadata": {
        "id": "vaZIPcbMt2B8"
      }
    },
    {
      "cell_type": "code",
      "source": [
        "class Kucing:\n",
        "  def bersuara(self):\n",
        "    print(\"Kucing: Meow!\")\n",
        "\n",
        "class Anjing:\n",
        "  def bersuara(self):\n",
        "    print(\"Anjing: Guk guk!\")\n",
        "\n",
        "class Bebek:\n",
        "  def bersuara(self):\n",
        "    print(\"Bebek: Kwek kwek!\")\n",
        "\n",
        "class Mobil:\n",
        "  def jalankan(self):\n",
        "    print(\"Mobil: Brummm!\")\n",
        "\n",
        "def buat_suara(objek_yang_bisa_besuara):\n",
        "  try:\n",
        "    objek_yang_bisa_besuara.bersuara()\n",
        "  except AttributeError:\n",
        "    print(f\"Objek {type(objek_yang_bisa_besuara).__name__} tidak bisa bersuara.\")\n",
        "\n",
        "# Kode Utama\n",
        "if __name__==\"__main__\":\n",
        "  kucing1 = Kucing()\n",
        "  anjing1 = Anjing()\n",
        "  bebek1 = Bebek()\n",
        "  mobil1 = Mobil()\n",
        "\n",
        "  daftar_objek = [kucing1, anjing1, bebek1, mobil1]\n",
        "\n",
        "  print(\"Demonstrasi Duck Typing:\")\n",
        "  for item in daftar_objek:\n",
        "    buat_suara(item)\n",
        "    bagaimana_suaranya(item)\n"
      ],
      "metadata": {
        "id": "F_AMp9wnusIZ",
        "outputId": "cb24e759-93dd-405c-cd54-0c666ec09e87",
        "colab": {
          "base_uri": "https://localhost:8080/"
        }
      },
      "execution_count": null,
      "outputs": [
        {
          "output_type": "stream",
          "name": "stdout",
          "text": [
            "Demonstrasi Duck Typing:\n",
            "Kucing: Meow!\n",
            "Objek Kucing tidak memiliki metode 'suara'.\n",
            "Anjing: Guk guk!\n",
            "Objek Anjing tidak memiliki metode 'suara'.\n",
            "Bebek: Kwek kwek!\n",
            "Objek Bebek tidak memiliki metode 'suara'.\n",
            "Objek Mobil tidak bisa bersuara.\n",
            "Mobil: Brummm!\n"
          ]
        }
      ]
    },
    {
      "cell_type": "markdown",
      "source": [
        "## Praktikum 03 : Simulasi Overloading dalam Metode kelas dengan *args\n",
        "\n"
      ],
      "metadata": {
        "id": "9fPmPyjtt3Na"
      }
    },
    {
      "cell_type": "code",
      "source": [
        "class KalkulatorSederhana:\n",
        "  def __init__(self, nama=\"Kalkulator\"):\n",
        "    self.nama = nama\n",
        "    print(f\"{self.nama} siap digunakan.\")\n",
        "\n",
        "  def tambah(self, * args):\n",
        "    print(f\"\\nMemanggil metode tambah dengan argumen: {args}\")\n",
        "    if not args:\n",
        "      print(\"Tidak ada angka untuk dijumlahkan.\")\n",
        "      return 0\n",
        "\n",
        "    total = 0\n",
        "    valid_input = True\n",
        "    for angka in args:\n",
        "      if isinstance(angka, (int, float)):\n",
        "        total += angka\n",
        "      else:\n",
        "        print(f\"Peringatan: Argumen '{angka}' bukan angka dan akan diabaikan.\")\n",
        "        valid_input = False\n",
        "\n",
        "    if valid_input:\n",
        "        print(f\"Hasil penjumlahan: {total}\")\n",
        "    else:\n",
        "        print(f\"Hasil penjumlahan (dengan beberapa input diabaikan): {total}\")\n",
        "    return total\n",
        "\n",
        "# Kode Utama\n",
        "if __name__==\"__main__\":\n",
        "  calc = KalkulatorSederhana(\"Calc-01\")\n",
        "\n",
        "  print(f\"\\n---Percobaan Penjumlahan---\")\n",
        "  calc.tambah(5, 10)\n",
        "  calc.tambah(2, 3, 5, 10)\n",
        "  calc.tambah(100)\n",
        "  calc.tambah()\n",
        "  calc.tambah(1, 2, \"tiga\", 4, 5.5)"
      ],
      "metadata": {
        "id": "yQ2b9ZelurwZ",
        "outputId": "86d7fd3e-ad83-42a3-d659-cae44284584d",
        "colab": {
          "base_uri": "https://localhost:8080/"
        }
      },
      "execution_count": null,
      "outputs": [
        {
          "output_type": "stream",
          "name": "stdout",
          "text": [
            "Calc-01 siap digunakan.\n",
            "\n",
            "---Percobaan Penjumlahan---\n",
            "\n",
            "Memanggil metode tambah dengan argumen: (5, 10)\n",
            "Hasil penjumlahan: 15\n",
            "\n",
            "Memanggil metode tambah dengan argumen: (2, 3, 5, 10)\n",
            "Hasil penjumlahan: 20\n",
            "\n",
            "Memanggil metode tambah dengan argumen: (100,)\n",
            "Hasil penjumlahan: 100\n",
            "\n",
            "Memanggil metode tambah dengan argumen: ()\n",
            "Tidak ada angka untuk dijumlahkan.\n",
            "\n",
            "Memanggil metode tambah dengan argumen: (1, 2, 'tiga', 4, 5.5)\n",
            "Peringatan: Argumen 'tiga' bukan angka dan akan diabaikan.\n",
            "Hasil penjumlahan (dengan beberapa input diabaikan): 12.5\n"
          ]
        }
      ]
    },
    {
      "cell_type": "markdown",
      "source": [
        "## Praktikum 04 : Simulasi Overloading dalam Metode Kelas dengan *args dan **kwargs"
      ],
      "metadata": {
        "id": "5_hdiBXauMVq"
      }
    },
    {
      "cell_type": "code",
      "source": [
        "class DataProcessor:\n",
        "  def __init__(self, processor_id):\n",
        "    self.processor_id = processor_id\n",
        "    print(f\"Data Processor {self.processor_id} siap digunakan.\")\n",
        "\n",
        "  def prosess(self, *args, **kwargs):\n",
        "    print(f\"\\n--- {self.processor_id} Memproses Data ---\")\n",
        "    if args:\n",
        "      print(\"Argumen posisi diterima:\")\n",
        "      for i, arg in enumerate(args):\n",
        "        print(f\"  args[{i}]: {arg} ({type(arg).__name__})\")\n",
        "    else:\n",
        "      print(\"Tidak ada argumen posisi.\")\n",
        "    if kwargs:\n",
        "        print(\"Argumen kata kunci diterima:\")\n",
        "        for kunci, nilai in kwargs.items():\n",
        "          print(f\"  {kunci}: {nilai} ({type(nilai).__name__})\")\n",
        "    else:\n",
        "       print(\"Tidak ada argumen kata kunci.\")\n",
        "\n",
        "    print(\"-\" * 15)\n",
        "\n",
        "# Kode Utama\n",
        "if __name__==\"__main__\":\n",
        "  processor1 = DataProcessor(\"DP-001\")\n",
        "  print(\"\\nPanggilan 1: Tanpa argumen tambahan\")\n",
        "  processor1.prosess()\n",
        "\n",
        "  print(\"\\nPanggilan 2: Dengan argumen posisi\")\n",
        "  processor1.prosess(100, \"Status OK\", 99.9, False)\n",
        "\n",
        "  print(\"\\nPanggilan 3: Dengan argumen kata kunci\")\n",
        "  processor1.prosess(user=\"admin\", level=5, mode=\"verboses\")\n",
        "\n",
        "  print(\"\\nPanggilan 4: Kombinasi argumen posisi dan kata kunci\")\n",
        "  processor1.prosess(\"Task-A\", \"Task-B\", status=\"Running\", priority=\"High\", thread_id=54321)\n",
        "\n",
        "  print(\"\\nPanggilan 5: Argumen posisi kompleks\")\n",
        "  list_ids = [\"A1\", \"B2\", \"C3\"]\n",
        "  dict_params = {\"timeout\": 30, \"retry\": 3}\n",
        "  processor1.prosess(list_ids, dict_params, owner=\"system\", enabled=True)"
      ],
      "metadata": {
        "id": "Qx2AtPqCurCp",
        "outputId": "ff95742b-adbd-4c76-fe05-2f35bfc1234f",
        "colab": {
          "base_uri": "https://localhost:8080/"
        }
      },
      "execution_count": null,
      "outputs": [
        {
          "output_type": "stream",
          "name": "stdout",
          "text": [
            "Data Processor DP-001 siap digunakan.\n",
            "\n",
            "Panggilan 1: Tanpa argumen tambahan\n",
            "\n",
            "--- DP-001 Memproses Data ---\n",
            "Tidak ada argumen posisi.\n",
            "Tidak ada argumen kata kunci.\n",
            "---------------\n",
            "\n",
            "Panggilan 2: Dengan argumen posisi\n",
            "\n",
            "--- DP-001 Memproses Data ---\n",
            "Argumen posisi diterima:\n",
            "  args[0]: 100 (int)\n",
            "  args[1]: Status OK (str)\n",
            "  args[2]: 99.9 (float)\n",
            "  args[3]: False (bool)\n",
            "Tidak ada argumen kata kunci.\n",
            "---------------\n",
            "\n",
            "Panggilan 3: Dengan argumen kata kunci\n",
            "\n",
            "--- DP-001 Memproses Data ---\n",
            "Tidak ada argumen posisi.\n",
            "Argumen kata kunci diterima:\n",
            "  user: admin (str)\n",
            "  level: 5 (int)\n",
            "  mode: verboses (str)\n",
            "---------------\n",
            "\n",
            "Panggilan 4: Kombinasi argumen posisi dan kata kunci\n",
            "\n",
            "--- DP-001 Memproses Data ---\n",
            "Argumen posisi diterima:\n",
            "  args[0]: Task-A (str)\n",
            "  args[1]: Task-B (str)\n",
            "Argumen kata kunci diterima:\n",
            "  status: Running (str)\n",
            "  priority: High (str)\n",
            "  thread_id: 54321 (int)\n",
            "---------------\n",
            "\n",
            "Panggilan 5: Argumen posisi kompleks\n",
            "\n",
            "--- DP-001 Memproses Data ---\n",
            "Argumen posisi diterima:\n",
            "  args[0]: ['A1', 'B2', 'C3'] (list)\n",
            "  args[1]: {'timeout': 30, 'retry': 3} (dict)\n",
            "Argumen kata kunci diterima:\n",
            "  owner: system (str)\n",
            "  enabled: True (bool)\n",
            "---------------\n"
          ]
        }
      ]
    },
    {
      "cell_type": "markdown",
      "source": [
        "## Praktikum 05 : Kombinasi Polimorfisme (Inherintance & Duck Typing)"
      ],
      "metadata": {
        "id": "pIOliCNGuW8c"
      }
    },
    {
      "cell_type": "code",
      "source": [
        "import math\n",
        "\n",
        "#--Definisi Kelas dari Hierarki Inheritance--\n",
        "class Bentuk:\n",
        "  def nama_bentuk(self):\n",
        "    return \"Bentuk Generik\"\n",
        "  def hitung_luas(self):\n",
        "     print(\"Subclass harus mengimplementasikan metode ini\")\n",
        "     return 0\n",
        "\n",
        "class Lingkaran(Bentuk):\n",
        "  def __init__(self, radius):\n",
        "    self.radius = radius\n",
        "  def nama_bentuk(self):\n",
        "    return \"Lingkaran\"\n",
        "  def hitung_luas(self):\n",
        "    return math.pi * self.radius ** 2\n",
        "\n",
        "class Persegi(Bentuk):\n",
        "  def __init__(self, sisi):\n",
        "    self.sisi = sisi\n",
        "  def nama_bentuk(self):\n",
        "    return \"Persegi\"\n",
        "  def hitung_luas(self):\n",
        "    return self.sisi * self.sisi\n",
        "\n",
        "#--Definisi Kelas lain (Tidak Terkait Inheritance dengan Bentuk)--\n",
        "class TaplakMeja:\n",
        "  def __init__(self, panjang, lebar):\n",
        "    self.panjang = panjang\n",
        "    self.lebar = lebar\n",
        "  def hitung_luas(self):\n",
        "    return self.panjang * self.lebar\n",
        "  def deskripsi(self):\n",
        "    return f\"Taplak Meja {self.panjang}x{self.lebar}\"\n",
        "\n",
        "#--Fungsi Polimorfik--\n",
        "def tampilkan_info_luas(objek_dengan_luas):\n",
        "  print(\"-\" * 20)\n",
        "  try:\n",
        "    luas = objek_dengan_luas.hitung_luas()\n",
        "    try:\n",
        "      nama = objek_dengan_luas.nama_bentuk()\n",
        "    except AttributeError:\n",
        "      nama = type(objek_dengan_luas).__name__\n",
        "    print(f\"Objek: {nama}\")\n",
        "    print(f\"luas:{luas:.2f}\")\n",
        "  except AttributeError:\n",
        "    print(f\"Objek {type(objek_dengan_luas).__name__} tidak dapat dihitung luasnya (metode tidak ditemukan).\")\n",
        "    print(f\"metode 'hitung_luas' belum diimplementasi untuk {type(objek_dengan_luas).__name__}\")\n",
        "\n",
        "#--Kode utama--\n",
        "if __name__== \"__main__\":\n",
        "  lingkaran1 = Lingkaran(7)\n",
        "  persegi1 = Persegi(5)\n",
        "  taplak1 = TaplakMeja(1.5, 0.8)\n",
        "  bentuk_dasar = Bentuk()\n",
        "  string_biasa = \"Ini string\"\n",
        "  daftar_item = [lingkaran1, persegi1, taplak1, bentuk_dasar, string_biasa]\n",
        "\n",
        "  print(\"Menampilkan Info Luas (Polimorfisme Campuran):\")\n",
        "  for item in daftar_item:\n",
        "    tampilkan_info_luas(item)"
      ],
      "metadata": {
        "id": "o2iS37J5uqfL",
        "outputId": "5a31622b-1ad4-49f8-aad5-d290c1ecc5f9",
        "colab": {
          "base_uri": "https://localhost:8080/"
        }
      },
      "execution_count": null,
      "outputs": [
        {
          "output_type": "stream",
          "name": "stdout",
          "text": [
            "Menampilkan Info Luas (Polimorfisme Campuran):\n",
            "--------------------\n",
            "Objek: Lingkaran\n",
            "luas:153.94\n",
            "--------------------\n",
            "Objek: Persegi\n",
            "luas:25.00\n",
            "--------------------\n",
            "Objek: TaplakMeja\n",
            "luas:1.20\n",
            "--------------------\n",
            "Subclass harus mengimplementasikan metode ini\n",
            "Objek: Bentuk Generik\n",
            "luas:0.00\n",
            "--------------------\n",
            "Objek str tidak dapat dihitung luasnya (metode tidak ditemukan).\n",
            "metode 'hitung_luas' belum diimplementasi untuk str\n"
          ]
        }
      ]
    },
    {
      "cell_type": "markdown",
      "source": [
        "## Praktikum 06 : Kontrol Perilaku Polimorfisme dengan isinstance()"
      ],
      "metadata": {
        "id": "zAw2xLMougCg"
      }
    },
    {
      "cell_type": "code",
      "source": [
        "#--Definisi Kelas Burung, Elang, Pipit--\n",
        "class Burung:\n",
        "  def __init__(self, nama):\n",
        "    self.nama = nama\n",
        "  def terbang(self):\n",
        "    print(f\"{self.nama} terbang dengan cara umum.\")\n",
        "  def bersuara(self):\n",
        "    print(f\"{self.nama} mengeluarkan suara burung.\")\n",
        "\n",
        "class Elang (Burung):\n",
        "  def __init__(self, nama, rentang_sayap):\n",
        "    super().__init__(nama)\n",
        "    self.rentang_sayap = rentang_sayap\n",
        "  def terbang(self):\n",
        "    print(f\"{self.nama} terbang tinggi melayang di angkasa.\")\n",
        "  def bersuara(self):\n",
        "    print(f\"{self.nama} berteriak nyaring.\")\n",
        "  def berburu(self):\n",
        "    print(f\"{self.nama} sedang mencari mangsa dari ketinggian.\")\n",
        "\n",
        "class Pipit (Burung):\n",
        "  def __init__(self, nama, warna_bulu):\n",
        "    super().__init__(nama)\n",
        "    self.warna_bulu = warna_bulu\n",
        "  def terbang(self):\n",
        "    print(f\"{self.nama} terbang cepat diantara pepohonan.\")\n",
        "  def bersuara(self):\n",
        "    print(f\"{self.nama} berkicau merdu: Cit cit!\")\n",
        "  def membangun_sarang(self):\n",
        "    print(f\"{self.nama} sedang mengumpulkan ranting untuk sarang\")\n",
        "\n",
        "#--Fungsi yang memanfaatkan polimorfisme DAN isinstance()--\n",
        "def interaksi_dengan_burung(burung):\n",
        "  print(f\"\\n--- Berinteraksi dengan {type(burung).__name__}: {getattr(burung, 'nama', 'Objek tidak dikenal')} ---\")\n",
        "  if isinstance(burung, Burung):\n",
        "    burung.terbang()\n",
        "    burung.bersuara()\n",
        "    if isinstance(burung, Elang):\n",
        "      print(\"-> Ini adalah Elang!\")\n",
        "      burung.berburu()\n",
        "    elif isinstance(burung, Pipit):\n",
        "      print(\"-> Ini adalah Pipit!\")\n",
        "      burung.membangun_sarang()\n",
        "    else:\n",
        "      print(\"-> Ini adalah burung jenis umum (bukan Elang/Pipit).\")\n",
        "  else:\n",
        "    print(\"-> Ini bukan termasuk jenis burung.\")\n",
        "  print(\"-\" * 25)\n",
        "\n",
        "  #--Kode utama--\n",
        "if __name__==\"__main__\":\n",
        "    elang_sumatra = Elang(\"Elang Sumatra\", 1.8)\n",
        "    pipit_rumah = Pipit(\"Pipit Rumah\", \"Abu-Abu\")\n",
        "    merak = Burung(\"Merak\")\n",
        "    kucing_tetangga = \"Meong\"\n",
        "\n",
        "    koleksi_makhluk = [elang_sumatra, pipit_rumah, merak, kucing_tetangga]\n",
        "\n",
        "    for makhluk in koleksi_makhluk:\n",
        "     interaksi_dengan_burung(makhluk)"
      ],
      "metadata": {
        "id": "20TQ18D8upe8",
        "outputId": "f2b03eb3-3522-4907-bf8d-bed8dd91e9ea",
        "colab": {
          "base_uri": "https://localhost:8080/"
        }
      },
      "execution_count": null,
      "outputs": [
        {
          "output_type": "stream",
          "name": "stdout",
          "text": [
            "\n",
            "--- Berinteraksi dengan Elang: Elang Sumatra ---\n",
            "Elang Sumatra terbang tinggi melayang di angkasa.\n",
            "Elang Sumatra berteriak nyaring.\n",
            "-> Ini adalah Elang!\n",
            "Elang Sumatra sedang mencari mangsa dari ketinggian.\n",
            "-------------------------\n",
            "\n",
            "--- Berinteraksi dengan Pipit: Pipit Rumah ---\n",
            "Pipit Rumah terbang cepat diantara pepohonan.\n",
            "Pipit Rumah berkicau merdu: Cit cit!\n",
            "-> Ini adalah Pipit!\n",
            "Pipit Rumah sedang mengumpulkan ranting untuk sarang\n",
            "-------------------------\n",
            "\n",
            "--- Berinteraksi dengan Burung: Merak ---\n",
            "Merak terbang dengan cara umum.\n",
            "Merak mengeluarkan suara burung.\n",
            "-> Ini adalah burung jenis umum (bukan Elang/Pipit).\n",
            "-------------------------\n",
            "\n",
            "--- Berinteraksi dengan str: Objek tidak dikenal ---\n",
            "-> Ini bukan termasuk jenis burung.\n",
            "-------------------------\n"
          ]
        }
      ]
    },
    {
      "cell_type": "markdown",
      "source": [
        "# Penugasan"
      ],
      "metadata": {
        "id": "x0hX3jqLLeXb"
      }
    },
    {
      "cell_type": "code",
      "source": [
        "class Komputer:\n",
        "    def __init__(self, merk, processor, ram_gb):\n",
        "        self.merk = merk\n",
        "        self.processor = processor\n",
        "        self.ram_gb = ram_gb\n",
        "\n",
        "    def info_spesifikasi(self):\n",
        "        print(f\"Merk: {self.merk}\")\n",
        "        print(f\"Processor: {self.processor}\")\n",
        "        print(f\"RAM: {self.ram_gb} GB\")\n",
        "\n",
        "    def jalankan_aplikasi(self, nama_aplikasi):\n",
        "        print(f\"{self.merk} menjalankan aplikasi: {nama_aplikasi}...\")\n",
        "\n",
        "    def install_software(self, *args):\n",
        "        for software in args:\n",
        "            print(f\"Menginstall {software} di {self.merk}...\")\n",
        "\n",
        "class Laptop(Komputer):\n",
        "    def __init__(self, merk, processor, ram_gb, ukuran_layar_inch, berat_kg):\n",
        "        super().__init__(merk, processor, ram_gb)\n",
        "        self.ukuran_layar_inch = ukuran_layar_inch\n",
        "        self.berat_kg = berat_kg\n",
        "\n",
        "    # Override\n",
        "    def info_spesifikasi(self):\n",
        "        super().info_spesifikasi()\n",
        "        print(f\"Ukuran Layar: {self.ukuran_layar_inch} inch\")\n",
        "        print(f\"Berat: {self.berat_kg} Kg\")\n",
        "\n",
        "\n",
        "class Desktop(Komputer):\n",
        "    def __init__(self, merk, processor, ram_gb, jenis_casing, monitor_external):\n",
        "        super().__init__(merk, processor, ram_gb)\n",
        "        self.jenis_casing = jenis_casing\n",
        "        self.monitor_external = monitor_external\n",
        "\n",
        "    # Override\n",
        "    def info_spesifikasi(self):\n",
        "        super().info_spesifikasi()\n",
        "        print(f\"Jenis Casing: {self.jenis_casing}\")\n",
        "        print(f\"Monitor External: {'Ya' if self.monitor_external else 'Tidak'}\")\n",
        "\n",
        "\n",
        "# Demonstrasi Polimorfisme\n",
        "def cetak_semua_spesifikasi(daftar_komputer):\n",
        "    for komputer in daftar_komputer:\n",
        "        komputer.info_spesifikasi()\n",
        "        print(\"-\" * 40)\n",
        "\n",
        "# Kode Utama\n",
        "if __name__ == \"__main__\":\n",
        "    laptop1 = Laptop(\"Thinkpad X1 Carbon Gen 12\", \"Intel Core Ultra 7\", 64, 14.0, 1.08)\n",
        "    desktop1 = Desktop(\"Lenovo\", \"AMD Ryzen 5\", 32, \"Tower\", True)\n",
        "\n",
        "    semua_komputer = [laptop1, desktop1]\n",
        "\n",
        "    # Cetak semua spesifikasi (demonstrasi polimorfisme)\n",
        "    cetak_semua_spesifikasi(semua_komputer)\n",
        "\n",
        "    # Menjalankan aplikasi (demonstrasi metode dari kelas induk)\n",
        "    laptop1.jalankan_aplikasi(\"Burp Suite\")\n",
        "    desktop1.jalankan_aplikasi(\"Nmap\")\n",
        "\n",
        "    # Simulasi Overloading via *args (install_software)\n",
        "    laptop1.install_software(\"VS Code\")\n",
        "    laptop1.install_software(\"Python\", \"x64dbg\", \"Wireshark\", \"Ghidra\")"
      ],
      "metadata": {
        "id": "JV_z_p0YLksJ",
        "outputId": "7e450b5a-9665-4fa2-a0e5-a21ff0b71230",
        "colab": {
          "base_uri": "https://localhost:8080/"
        }
      },
      "execution_count": 12,
      "outputs": [
        {
          "output_type": "stream",
          "name": "stdout",
          "text": [
            "Merk: Thinkpad X1 Carbon Gen 12\n",
            "Processor: Intel Core Ultra 7\n",
            "RAM: 64 GB\n",
            "Ukuran Layar: 14.0 inch\n",
            "Berat: 1.08 Kg\n",
            "----------------------------------------\n",
            "Merk: Lenovo\n",
            "Processor: AMD Ryzen 5\n",
            "RAM: 32 GB\n",
            "Jenis Casing: Tower\n",
            "Monitor External: Ya\n",
            "----------------------------------------\n",
            "Thinkpad X1 Carbon Gen 12 menjalankan aplikasi: Burp Suite...\n",
            "Lenovo menjalankan aplikasi: Nmap...\n",
            "Menginstall VS Code di Thinkpad X1 Carbon Gen 12...\n",
            "Menginstall Python di Thinkpad X1 Carbon Gen 12...\n",
            "Menginstall x64dbg di Thinkpad X1 Carbon Gen 12...\n",
            "Menginstall Wireshark di Thinkpad X1 Carbon Gen 12...\n",
            "Menginstall Ghidra di Thinkpad X1 Carbon Gen 12...\n"
          ]
        }
      ]
    }
  ]
}