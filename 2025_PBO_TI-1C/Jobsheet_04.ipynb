{
  "nbformat": 4,
  "nbformat_minor": 0,
  "metadata": {
    "colab": {
      "provenance": [],
      "name": "Jobsheet_04.ipynb",
      "include_colab_link": true
    },
    "kernelspec": {
      "name": "python3",
      "display_name": "Python 3"
    },
    "language_info": {
      "name": "python"
    }
  },
  "cells": [
    {
      "cell_type": "markdown",
      "metadata": {
        "id": "view-in-github",
        "colab_type": "text"
      },
      "source": [
        "<a href=\"https://colab.research.google.com/github/terra2n/2025_PBO_TI-1C/blob/main/Jobsheet_04.ipynb\" target=\"_parent\"><img src=\"https://colab.research.google.com/assets/colab-badge.svg\" alt=\"Open In Colab\"/></a>"
      ]
    },
    {
      "cell_type": "markdown",
      "source": [
        "# Langkah Praktikum"
      ],
      "metadata": {
        "id": "5PWNTGZlfxAU"
      }
    },
    {
      "cell_type": "markdown",
      "source": [
        "## 1. Praktikum 01 : Inheritance Dasar"
      ],
      "metadata": {
        "id": "W9j-qAKsf4jM"
      }
    },
    {
      "cell_type": "code",
      "execution_count": 5,
      "metadata": {
        "id": "xoAtytgIVuCT",
        "outputId": "c6f5dd87-e74f-4f38-a807-59010126e86f",
        "colab": {
          "base_uri": "https://localhost:8080/"
        }
      },
      "outputs": [
        {
          "output_type": "stream",
          "name": "stdout",
          "text": [
            "ini adalah mobil Tesla Model S berwarna Merah.\n",
            "Mesin Kendaraan Tesla Model S dinyalakan.\n",
            "Merk mobil: Tesla Model S\n"
          ]
        }
      ],
      "source": [
        "# Kelas Induk\n",
        "class Kendaraan:\n",
        "  def __init__(self,merk):\n",
        "    self.merk = merk\n",
        "  def mulai_mesin(self):\n",
        "      print(f\"Mesin Kendaraan {self.merk} dinyalakan.\")\n",
        "\n",
        "# Kelas Anak (Mewarisi dari kendaraan)\n",
        "class Mobil(Kendaraan):\n",
        "  def __init__(self,merk,warna):\n",
        "    self.merk = merk\n",
        "    self.warna = warna\n",
        "\n",
        "  def info_mobil(self):\n",
        "    print(f\"ini adalah mobil {self.merk} berwarna {self.warna}.\")\n",
        "\n",
        "# --- Kode Utama ---\n",
        "if __name__ == \"__main__\":\n",
        "  mobil_tesla = Mobil(\"Tesla Model S\",\"Merah\")\n",
        "  mobil_tesla.info_mobil()\n",
        "  mobil_tesla.mulai_mesin()\n",
        "  print(f\"Merk mobil: {mobil_tesla.merk}\")\n",
        "\n"
      ]
    },
    {
      "cell_type": "markdown",
      "source": [
        "## 2. Praktikum 02 : Menggunakan super() dalam konstruktor"
      ],
      "metadata": {
        "id": "TjKqBlkKjaFZ"
      }
    },
    {
      "cell_type": "code",
      "source": [
        "# Kelas Induk\n",
        "class Person:\n",
        "  def __init__(self, nama, usia):\n",
        "    self.nama = nama\n",
        "    self.usia = usia\n",
        "\n",
        "  def perkenalan_diri(self):\n",
        "    print(f\"Halo, nama saya {self.nama}, Usia saya {self.usia}\")\n",
        "\n",
        "# Kelas Anak (Mewarisi dari Person)\n",
        "class Student (Person):\n",
        "  def __init__(self, nama, usia, Student_id, jurusan):\n",
        "    print(f\"(Memanggil __init__Student untuk '{nama}')\")\n",
        "\n",
        "    super().__init__(nama, usia)\n",
        "    self.Student_id = Student_id\n",
        "    self.jurusan = jurusan\n",
        "    print(f\"(Saya adalah mehasiswa dengan ID {self.Student_id}, jurusan {self.jurusan})\")\n",
        "\n",
        "  def info_akademik(self):\n",
        "    print(f\"ID Mahasiswa: {self.Student_id}\")\n",
        "    print(f\"Jurusan: {self.jurusan}\")\n",
        "\n",
        "  def perkenalan_diri(self):\n",
        "    super().perkenalan_diri()\n",
        "    print(f\"Saya adalah mahasiswa dengan ID {self.Student_id}, jurusan {self.jurusan}\")\n",
        "\n",
        "# Kode Utama\n",
        "if __name__==\"__main__\":\n",
        "  dosen = Person (\"pak Anton\", 45)\n",
        "  print(\"-\" * 20)\n",
        "  dosen.perkenalan_diri()\n",
        "  print(\"\\n\" + \"=\" * 30 + \"\\n\")\n",
        "\n",
        "  mahasiswa = Student (\"Dewi\", 20, \"MHS001\", \"Teknik Komputer\")\n",
        "  print(\"-\" * 20)\n",
        "  mahasiswa.perkenalan_diri()\n",
        "  print(\"-\" * 20)\n",
        "  mahasiswa.info_akademik()\n",
        "\n",
        "  print(f\"\\nUsia mahasiswa {mahasiswa.nama}: {mahasiswa.usia}\")"
      ],
      "metadata": {
        "id": "5_nI40FWji0D",
        "outputId": "abc70dae-b897-4935-81a8-4c74536dc0ec",
        "colab": {
          "base_uri": "https://localhost:8080/"
        }
      },
      "execution_count": 6,
      "outputs": [
        {
          "output_type": "stream",
          "name": "stdout",
          "text": [
            "--------------------\n",
            "Halo, nama saya pak Anton, Usia saya 45\n",
            "\n",
            "==============================\n",
            "\n",
            "(Memanggil __init__Student untuk 'Dewi')\n",
            "(Saya adalah mehasiswa dengan ID MHS001, jurusan Teknik Komputer)\n",
            "--------------------\n",
            "Halo, nama saya Dewi, Usia saya 20\n",
            "Saya adalah mahasiswa dengan ID MHS001, jurusan Teknik Komputer\n",
            "--------------------\n",
            "ID Mahasiswa: MHS001\n",
            "Jurusan: Teknik Komputer\n",
            "\n",
            "Usia mahasiswa Dewi: 20\n"
          ]
        }
      ]
    },
    {
      "cell_type": "markdown",
      "source": [
        "## 3. Praktikum 03 : Method Overriding dan super()"
      ],
      "metadata": {
        "id": "5bnp4OJhoU0U"
      }
    },
    {
      "cell_type": "code",
      "source": [
        "# Kelas Induk\n",
        "class Hewan:\n",
        "  def __init__(self, nama):\n",
        "    self.nama = nama\n",
        "\n",
        "  def bersuara(self):\n",
        "    print (f\"{self.nama} mengeluarkan suara generik.\")\n",
        "\n",
        "  def tampilkan_info(self):\n",
        "    print(f\"ini adalah hewan bernama {self.nama}.\")\n",
        "\n",
        "# Kelas Anak\n",
        "class Kucing(Hewan):\n",
        "  def __init__(self, nama, ras):\n",
        "    super().__init__(nama)\n",
        "    self.ras = ras\n",
        "\n",
        "  def bersuara(self):\n",
        "    print(f\"{self.nama} (Kucing) mengeong: Meow!\")\n",
        "\n",
        "  def tampilkan_info(self):\n",
        "    super().tampilkan_info()\n",
        "    print(f\"Ini adalah kucing ras {self.ras}.\")\n",
        "\n",
        "# Kelas Utama\n",
        "if __name__ == \"__main__\":\n",
        "  hewan_umum = Hewan(\"Makhluk\")\n",
        "  kucing_persia = Kucing(\"Puspus\", \"Persia\")\n",
        "\n",
        "  print(\"info Hewan Umum\")\n",
        "  hewan_umum.tampilkan_info()\n",
        "  hewan_umum.bersuara()\n",
        "  print(\"-\" * 20)\n",
        "\n",
        "  print(\"info Kucing Persia:\")\n",
        "  kucing_persia.tampilkan_info()\n",
        "  kucing_persia.bersuara()\n"
      ],
      "metadata": {
        "id": "tlM563mbohYH",
        "outputId": "03b7ae27-7505-487f-ffb6-3352bda00c48",
        "colab": {
          "base_uri": "https://localhost:8080/"
        }
      },
      "execution_count": 7,
      "outputs": [
        {
          "output_type": "stream",
          "name": "stdout",
          "text": [
            "info Hewan Umum\n",
            "ini adalah hewan bernama Makhluk.\n",
            "Makhluk mengeluarkan suara generik.\n",
            "--------------------\n",
            "info Kucing Persia:\n",
            "ini adalah hewan bernama Puspus.\n",
            "Ini adalah kucing ras Persia.\n",
            "Puspus (Kucing) mengeong: Meow!\n"
          ]
        }
      ]
    },
    {
      "cell_type": "markdown",
      "source": [
        "## 4. Multi-Level Inheritance (Pewarisan Bertingkat)"
      ],
      "metadata": {
        "id": "c2A78cl1siFl"
      }
    },
    {
      "cell_type": "code",
      "source": [
        "# Kelas Induk level 1\n",
        "class Organisme:\n",
        "  def __init__(self, nama):\n",
        "    self.nama = nama\n",
        "    print(f\"Organisme ' {self.nama}' diciptakan.\")\n",
        "\n",
        "  def bernapas(self):\n",
        "    print(f\"{self.nama} sedang bernapas\")\n",
        "\n",
        "# Kelas Anak Level 1 (mewarisi dari Organisme)\n",
        "class Hewan(Organisme):\n",
        "  def __init__(self, nama, jenis_makanan):\n",
        "    super().__init__(nama)\n",
        "    self.jenis_makanan = jenis_makanan\n",
        "    print(f\"Hewan '{self.nama}' adalah ({self.jenis_makanan}).\")\n",
        "\n",
        "  def bergerak(self):\n",
        "    print(f\"{self.nama} sedang bergerak.\")\n",
        "\n",
        "# Kelas Anak level 2 (mewarisi dari Hewan)\n",
        "class Mamalia(Hewan):\n",
        "  def __init__(self, nama, jenis_makanan, jumlah_kaki):\n",
        "    super().__init__(nama, jenis_makanan)\n",
        "    self.jumlah_kaki = jumlah_kaki\n",
        "    print(f\"Mamalia '{self.nama}' memiliki {self.jumlah_kaki} kaki.\")\n",
        "\n",
        "  def menyusui(self):\n",
        "    print(f\"{self.nama} sedang menyusui.\")\n",
        "\n",
        "# Kode Utama\n",
        "if __name__==\"__main__\":\n",
        "  kucing = Mamalia (\"Kucing Persia\", \"Karnivora\", 4)\n",
        "  print(\"-\" * 20)\n",
        "\n",
        "  kucing.menyusui()\n",
        "\n",
        "  kucing.bergerak()\n",
        "  print(f\"Jenis makanan kucing Persia: {kucing.jenis_makanan}\")\n",
        "\n",
        "  kucing.bernapas()\n",
        "  print(f\"Nama Organisme: {kucing.nama}\")"
      ],
      "metadata": {
        "id": "X6lEFRVHsqGe",
        "colab": {
          "base_uri": "https://localhost:8080/"
        },
        "outputId": "e54488d1-c487-433a-a762-d16535b5c9e0"
      },
      "execution_count": 8,
      "outputs": [
        {
          "output_type": "stream",
          "name": "stdout",
          "text": [
            "Organisme ' Kucing Persia' diciptakan.\n",
            "Hewan 'Kucing Persia' adalah (Karnivora).\n",
            "Mamalia 'Kucing Persia' memiliki 4 kaki.\n",
            "--------------------\n",
            "Kucing Persia sedang menyusui.\n",
            "Kucing Persia sedang bergerak.\n",
            "Jenis makanan kucing Persia: Karnivora\n",
            "Kucing Persia sedang bernapas\n",
            "Nama Organisme: Kucing Persia\n"
          ]
        }
      ]
    },
    {
      "cell_type": "markdown",
      "source": [
        "## Praktikum 05 : Hierarchical Inheritance"
      ],
      "metadata": {
        "id": "ul3emPdw3-ko"
      }
    },
    {
      "cell_type": "code",
      "source": [
        "!apt-get install locale -y\n",
        "!locale-gen en_US.UTF-8\n",
        "!update locale"
      ],
      "metadata": {
        "id": "IcKlDv_SGz0N",
        "outputId": "ab87d08d-2ebb-4441-d0eb-e5ea8d1af076",
        "colab": {
          "base_uri": "https://localhost:8080/"
        }
      },
      "execution_count": 9,
      "outputs": [
        {
          "output_type": "stream",
          "name": "stdout",
          "text": [
            "Reading package lists... Done\n",
            "Building dependency tree... Done\n",
            "Reading state information... Done\n",
            "E: Unable to locate package locale\n",
            "Generating locales (this might take a while)...\n",
            "  en_US.UTF-8... done\n",
            "Generation complete.\n",
            "/bin/bash: line 1: update: command not found\n"
          ]
        }
      ]
    },
    {
      "cell_type": "code",
      "source": [
        "import locale\n",
        "\n",
        "# set locale ke indonesia untuk format mata uang\n",
        "try:\n",
        "  locale.setlocale(locale.LC_ALL, 'id_ID.UTF-8')\n",
        "except locale.Error:\n",
        "  print(f\"Locale id_ID.UTF-8 tidak tersedia, menggunakan Locale default.\")\n",
        "\n",
        "# fungsi helper untuk format mata uang\n",
        "def format_rupiah(angka):\n",
        "  return locale.currency(angka, grouping=True, symbol='Rp ')\n",
        "\n",
        "# Kelas induk\n",
        "class Pegawai:\n",
        "  def __init__(self, nama, id_pegawai, gaji_pokok):\n",
        "    self.nama = nama\n",
        "    self.id_pegawai = id_pegawai\n",
        "    self.gaji_pokok = gaji_pokok\n",
        "\n",
        "  def hitung_gaji(self):\n",
        "    return self.gaji_pokok\n",
        "\n",
        "  def tampilkan_info(self):\n",
        "    print(f\"ID: {self.id_pegawai}, Nama: {self.nama}\")\n",
        "    print(f\"Gaji Pokok: {format_rupiah(self.gaji_pokok)}\")\n",
        "\n",
        "\n",
        "# Kelas Anak 1\n",
        "class Manager (Pegawai):\n",
        "  def __init__(self, nama, id_pegawai, gaji_pokok, tunjangan_jabatan):\n",
        "    super().__init__(nama, id_pegawai, gaji_pokok)\n",
        "    self.tunjangan_jabatan = tunjangan_jabatan\n",
        "\n",
        "  def hitung_gaji(self):\n",
        "    gaji_total = super().hitung_gaji() + self.tunjangan_jabatan\n",
        "    return gaji_total\n",
        "\n",
        "  def tampilkan_info(self):\n",
        "    super().tampilkan_info()\n",
        "    print(f\"---- info manager ----\" )\n",
        "    print(f\"Tunjangan Jabatan: {format_rupiah(self.tunjangan_jabatan)}\")\n",
        "    print(f\"Total gaji: {format_rupiah(self.hitung_gaji())}\")\n",
        "\n",
        "# Kelas Anak 2\n",
        "class stafTeknis (Pegawai):\n",
        "  def __init__(self, nama, id_pegawai, gaji_pokok, keahlian, bonus_keahlian):\n",
        "    super().__init__(nama, id_pegawai, gaji_pokok)\n",
        "    self.keahlian = keahlian\n",
        "    self.bonus_keahlian = bonus_keahlian\n",
        "\n",
        "  def hitung_gaji(self):\n",
        "    gaji_total = super().hitung_gaji() + self.bonus_keahlian\n",
        "    return gaji_total\n",
        "\n",
        "  def tampilkan_info(self):\n",
        "    print(f\"---- info staff teknis ----\" )\n",
        "    super().tampilkan_info()\n",
        "    print(f\"Keahlian: {self.keahlian}\")\n",
        "    print(f\"Bonus Keahlian: {format_rupiah(self.bonus_keahlian)}\")\n",
        "    print(f\"Total gaji: {format_rupiah(self.hitung_gaji())}\")\n",
        "\n",
        "# Kode Utama\n",
        "if __name__ == \"__main__\":\n",
        "  manager1 = Manager(\"Budi Santoso\", \"M001\", 10000000, 5000000)\n",
        "  staf = stafTeknis(\"Citra Lestari\", \"S001\", 7000000, \"Python Programming\", 1500000)\n",
        "  pegawai_baru = Pegawai(\"Rian\", \"P005\", 5000000)\n",
        "\n",
        "  print(\"Menampilkan Informasi Pegawai:\")\n",
        "  manager1.tampilkan_info()\n",
        "  print(\"-\" * 30)\n",
        "  staf.tampilkan_info()\n",
        "  print(\"-\" * 30)\n",
        "\n",
        "  print(\"--- Info Pegawai Baru ---\")\n",
        "  pegawai_baru.tampilkan_info()\n",
        "  print(f\"Total gaji: {format_rupiah(pegawai_baru.hitung_gaji())}\")\n",
        "  print(\"-\" * 30)\n",
        "  pegawai_baru = Pegawai(\"Rian\", \"P005\", 5000000)\n",
        "\n",
        "  print(\"Menampilkan Informasi Pegawai:\")\n",
        "  manager1.tampilkan_info()\n",
        "  print(\"-\" * 30)\n",
        "  staf.tampilkan_info() # fixed typo here: staf -> staff\n",
        "  print(\"-\" * 30)\n",
        "\n",
        "  print(\"--- Info Pegawai Baru ---\")\n",
        "  pegawai_baru.tampilkan_info()\n",
        "  print(f\"Total gaji: {format_rupiah(pegawai_baru.hitung_gaji())}\")\n",
        "  print(\"-\" * 30)\n",
        "# fungsi helper untuk format mata uang\n",
        "def format_rupiah(angka):\n",
        "  return locale.currency(angka, grouping=True, symbol='Rp ')"
      ],
      "metadata": {
        "colab": {
          "base_uri": "https://localhost:8080/"
        },
        "id": "a95dZ51k4Ky3",
        "outputId": "436722a2-78bf-4f1f-a929-a9a84bc0c8d0"
      },
      "execution_count": 10,
      "outputs": [
        {
          "output_type": "stream",
          "name": "stdout",
          "text": [
            "Menampilkan Informasi Pegawai:\n",
            "ID: M001, Nama: Budi Santoso\n",
            "Gaji Pokok: Rp10.000.000,00\n",
            "---- info manager ----\n",
            "Tunjangan Jabatan: Rp5.000.000,00\n",
            "Total gaji: Rp15.000.000,00\n",
            "------------------------------\n",
            "---- info staff teknis ----\n",
            "ID: S001, Nama: Citra Lestari\n",
            "Gaji Pokok: Rp7.000.000,00\n",
            "Keahlian: Python Programming\n",
            "Bonus Keahlian: Rp1.500.000,00\n",
            "Total gaji: Rp8.500.000,00\n",
            "------------------------------\n",
            "--- Info Pegawai Baru ---\n",
            "ID: P005, Nama: Rian\n",
            "Gaji Pokok: Rp5.000.000,00\n",
            "Total gaji: Rp5.000.000,00\n",
            "------------------------------\n",
            "Menampilkan Informasi Pegawai:\n",
            "ID: M001, Nama: Budi Santoso\n",
            "Gaji Pokok: Rp10.000.000,00\n",
            "---- info manager ----\n",
            "Tunjangan Jabatan: Rp5.000.000,00\n",
            "Total gaji: Rp15.000.000,00\n",
            "------------------------------\n",
            "---- info staff teknis ----\n",
            "ID: S001, Nama: Citra Lestari\n",
            "Gaji Pokok: Rp7.000.000,00\n",
            "Keahlian: Python Programming\n",
            "Bonus Keahlian: Rp1.500.000,00\n",
            "Total gaji: Rp8.500.000,00\n",
            "------------------------------\n",
            "--- Info Pegawai Baru ---\n",
            "ID: P005, Nama: Rian\n",
            "Gaji Pokok: Rp5.000.000,00\n",
            "Total gaji: Rp5.000.000,00\n",
            "------------------------------\n"
          ]
        }
      ]
    },
    {
      "cell_type": "markdown",
      "source": [
        "## 6. Praktikum 06 : Memeriksa Tipe Instance dengan instance()"
      ],
      "metadata": {
        "id": "nnU76LAJgcq9"
      }
    },
    {
      "cell_type": "code",
      "source": [
        "class BentukGeometri:\n",
        "  def __init__(self, nama_bentuk):\n",
        "    self.nama = nama_bentuk\n",
        "  def tampilkan_nama(self):\n",
        "    print(f\"Ini adalah bentuk: {self.nama}\")\n",
        "  def hitung_luas(self):\n",
        "    print(f\" Luas {self.nama} tidak dapat dihitung (generik)\")\n",
        "\n",
        "class PersegiPanjang(BentukGeometri):\n",
        "  def __init__(self, panjang, lebar):\n",
        "    super().__init__(\"Persegi Panjang\")\n",
        "    self.panjang = panjang\n",
        "    self.lebar = lebar\n",
        "  def hitung_luas(self):\n",
        "    luas = self.panjang * self.lebar\n",
        "    print(f\"Luas {self.nama}: {luas}\")\n",
        "\n",
        "class Segitiga(BentukGeometri):\n",
        "  def __init__(self, alas, tinggi):\n",
        "    super().__init__(\"Segitiga\")\n",
        "    self.alas = alas\n",
        "    self.tinggi = tinggi\n",
        "  def hitung_luas(self):\n",
        "    luas = 0.5 * self.alas * self.tinggi\n",
        "    print(f\"Luas {self.nama}: {luas}\")\n",
        "\n",
        "def proses_bentuk(bentuk):\n",
        "    print(f\"\\nMemproses objek: {type (bentuk)}\")\n",
        "\n",
        "    if isinstance(bentuk, BentukGeometri):\n",
        "      bentuk.tampilkan_nama()\n",
        "      print(\"-> Objek ini adalah instance dari BentukGeometri (atau turunannya).\")\n",
        "    if isinstance(bentuk, PersegiPanjang):\n",
        "      print(\"-> Objek ini adalah instance dari PersegiPanjang\")\n",
        "    elif isinstance(bentuk, Segitiga):\n",
        "      print(\"-> Objek ini adalah instance dari Segitiga\")\n",
        "    else:\n",
        "      print(\"-> Objek ini BUKAN instance dari BentukGeometri.\")\n",
        "    if isinstance(bentuk, str):\n",
        "      print(\"Objek ini adalah string\")\n",
        "\n",
        "# Kode Utama\n",
        "if __name__ == \"__main__\":\n",
        "  pp = PersegiPanjang(4,3)\n",
        "  seg = Segitiga(5, 2)\n",
        "  bg = BentukGeometri(\"Lingkaran\")\n",
        "  teks = \"ini string\"\n",
        "\n",
        "  daftar_objek = [pp, seg, bg, teks]\n",
        "\n",
        "  for objek in daftar_objek:\n",
        "    proses_bentuk(objek)"
      ],
      "metadata": {
        "id": "Sup5m9KO4Uab",
        "outputId": "879dead3-3ff2-4ca0-ab97-7e17b2bc0fe5",
        "colab": {
          "base_uri": "https://localhost:8080/"
        }
      },
      "execution_count": 11,
      "outputs": [
        {
          "output_type": "stream",
          "name": "stdout",
          "text": [
            "\n",
            "Memproses objek: <class '__main__.PersegiPanjang'>\n",
            "Ini adalah bentuk: Persegi Panjang\n",
            "-> Objek ini adalah instance dari BentukGeometri (atau turunannya).\n",
            "-> Objek ini adalah instance dari PersegiPanjang\n",
            "\n",
            "Memproses objek: <class '__main__.Segitiga'>\n",
            "Ini adalah bentuk: Segitiga\n",
            "-> Objek ini adalah instance dari BentukGeometri (atau turunannya).\n",
            "-> Objek ini adalah instance dari Segitiga\n",
            "\n",
            "Memproses objek: <class '__main__.BentukGeometri'>\n",
            "Ini adalah bentuk: Lingkaran\n",
            "-> Objek ini adalah instance dari BentukGeometri (atau turunannya).\n",
            "-> Objek ini BUKAN instance dari BentukGeometri.\n",
            "\n",
            "Memproses objek: <class 'str'>\n",
            "-> Objek ini BUKAN instance dari BentukGeometri.\n",
            "Objek ini adalah string\n"
          ]
        }
      ]
    },
    {
      "cell_type": "markdown",
      "source": [
        "# Penugasan"
      ],
      "metadata": {
        "id": "488k4gohI531"
      }
    },
    {
      "cell_type": "code",
      "source": [
        "# Kelas Induk\n",
        "class Mahasiswa:\n",
        "    def __init__(self, nama, nim, ipk):\n",
        "        self.nama = nama\n",
        "        self.nim = nim\n",
        "        self.ipk = ipk\n",
        "\n",
        "    def tampilkan_info(self):\n",
        "        print(f\"Nama: {self.nama}\")\n",
        "        print(f\"NIM: {self.nim}\")\n",
        "        print(f\"IPK: {self.ipk}\")\n",
        "\n",
        "    def hitung_predikat(self):\n",
        "        if self.ipk >= 3.5:\n",
        "            print(\"Predikat: Dengan Pujian\")\n",
        "        elif self.ipk >= 3.0:\n",
        "            print(\"Predikat: Sangat Memuaskan\")\n",
        "        elif self.ipk >= 2.5:\n",
        "            print(\"Predikat: Memuaskan\")\n",
        "        else:\n",
        "            print(\"Predikat: Cukup\")\n",
        "\n",
        "\n",
        "# Kelas Anak 1 - Mahasiswa Sarjana\n",
        "class MahasiswaSarjana(Mahasiswa):\n",
        "    def __init__(self, nama, nim, ipk, semester, sks_lulus):\n",
        "        super().__init__(nama, nim, ipk)\n",
        "        self.semester = semester\n",
        "        self.sks_lulus = sks_lulus\n",
        "\n",
        "    def tampilkan_info(self):\n",
        "        super().tampilkan_info()\n",
        "        print(f\"Semester: {self.semester}\")\n",
        "        print(f\"SKS Lulus: {self.sks_lulus}\")\n",
        "\n",
        "\n",
        "# Kelas Anak 2 - Mahasiswa Magister\n",
        "class MahasiswaMagister(Mahasiswa):\n",
        "    def __init__(self, nama, nim, ipk, judul_tesis, nama_pembimbing):\n",
        "        super().__init__(nama, nim, ipk)\n",
        "        self.judul_tesis = judul_tesis\n",
        "        self.nama_pembimbing = nama_pembimbing\n",
        "\n",
        "    def tampilkan_info(self):\n",
        "        super().tampilkan_info()\n",
        "        print(f\"Judul Tesis: {self.judul_tesis}\")\n",
        "        print(f\"Pembimbing: {self.nama_pembimbing}\")\n",
        "\n",
        "    # Override predikat\n",
        "    def hitung_predikat(self):\n",
        "        if self.ipk >= 3.7:\n",
        "            print(\"Predikat: Lulus dengan Pujian (Magister)\")\n",
        "        elif self.ipk >= 3.3:\n",
        "            print(\"Predikat: Sangat Memuaskan\")\n",
        "        else:\n",
        "            print(\"Predikat: Memuaskan\")\n",
        "\n",
        "if __name__ == \"__main__\":\n",
        "  print(\"=== Mahasiswa Biasa ===\")\n",
        "mhs_biasa = Mahasiswa(\"Faris Buana\", \"20230001\", 2.8)\n",
        "mhs_biasa.tampilkan_info()\n",
        "mhs_biasa.hitung_predikat()\n",
        "\n",
        "print(\"\\n=== Mahasiswa Sarjana ===\")\n",
        "mhs_s1 = MahasiswaSarjana(\"Raja Yamete\", \"20220045\", 3.4, semester=6, sks_lulus=110)\n",
        "mhs_s1.tampilkan_info()\n",
        "mhs_s1.hitung_predikat()\n",
        "\n",
        "print(\"\\n=== Mahasiswa Sarjana 2 ===\")\n",
        "mhs_s1b = MahasiswaSarjana(\"Sri Mulyani\", \"20221023\", 2.3, semester=4, sks_lulus=60)\n",
        "mhs_s1b.tampilkan_info()\n",
        "mhs_s1b.hitung_predikat()\n",
        "\n",
        "print(\"\\n=== Mahasiswa Magister ===\")\n",
        "mhs_s2 = MahasiswaMagister(\"Fazgian Talnia\", \"20210078\", 3.8, \"Analisis Big Data untuk Prediksi Cuaca\", \"Dr. Budi Santosa\")\n",
        "mhs_s2.tampilkan_info()\n",
        "mhs_s2.hitung_predikat()\n",
        "\n",
        "print(\"\\n=== Mahasiswa Magister 2 ===\")\n",
        "mhs_s2b = MahasiswaMagister(\"Fajar Raza\", \"20210999\", 3.4, \"Model Pembelajaran Mesin dalam Deteksi Malware\", \"Prof. Retno\")\n",
        "mhs_s2b.tampilkan_info()\n",
        "mhs_s2b.hitung_predikat()"
      ],
      "metadata": {
        "id": "JE3Ni-cLI87Z",
        "outputId": "48408c6e-43ef-48ea-f694-f4626da9dd52",
        "colab": {
          "base_uri": "https://localhost:8080/"
        }
      },
      "execution_count": 13,
      "outputs": [
        {
          "output_type": "stream",
          "name": "stdout",
          "text": [
            "=== Mahasiswa Biasa ===\n",
            "Nama: Faris Buana\n",
            "NIM: 20230001\n",
            "IPK: 2.8\n",
            "Predikat: Memuaskan\n",
            "\n",
            "=== Mahasiswa Sarjana ===\n",
            "Nama: Raja Yamete\n",
            "NIM: 20220045\n",
            "IPK: 3.4\n",
            "Semester: 6\n",
            "SKS Lulus: 110\n",
            "Predikat: Sangat Memuaskan\n",
            "\n",
            "=== Mahasiswa Sarjana 2 ===\n",
            "Nama: Sri Mulyani\n",
            "NIM: 20221023\n",
            "IPK: 2.3\n",
            "Semester: 4\n",
            "SKS Lulus: 60\n",
            "Predikat: Cukup\n",
            "\n",
            "=== Mahasiswa Magister ===\n",
            "Nama: Fazgian Talnia\n",
            "NIM: 20210078\n",
            "IPK: 3.8\n",
            "Judul Tesis: Analisis Big Data untuk Prediksi Cuaca\n",
            "Pembimbing: Dr. Budi Santosa\n",
            "Predikat: Lulus dengan Pujian (Magister)\n",
            "\n",
            "=== Mahasiswa Magister 2 ===\n",
            "Nama: Fajar Raza\n",
            "NIM: 20210999\n",
            "IPK: 3.4\n",
            "Judul Tesis: Model Pembelajaran Mesin dalam Deteksi Malware\n",
            "Pembimbing: Prof. Retno\n",
            "Predikat: Sangat Memuaskan\n"
          ]
        }
      ]
    }
  ]
}