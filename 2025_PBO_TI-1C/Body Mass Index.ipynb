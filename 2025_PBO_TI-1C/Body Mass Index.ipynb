{
  "nbformat": 4,
  "nbformat_minor": 0,
  "metadata": {
    "colab": {
      "provenance": [],
      "authorship_tag": "ABX9TyMijV8pisT27ETLVeRu4TLs",
      "include_colab_link": true
    },
    "kernelspec": {
      "name": "python3",
      "display_name": "Python 3"
    },
    "language_info": {
      "name": "python"
    }
  },
  "cells": [
    {
      "cell_type": "markdown",
      "metadata": {
        "id": "view-in-github",
        "colab_type": "text"
      },
      "source": [
        "<a href=\"https://colab.research.google.com/github/terra2n/2025_PBO_TI-1C/blob/main/Body%20Mass%20Index.ipynb\" target=\"_parent\"><img src=\"https://colab.research.google.com/assets/colab-badge.svg\" alt=\"Open In Colab\"/></a>"
      ]
    },
    {
      "cell_type": "code",
      "execution_count": 3,
      "metadata": {
        "id": "tDZ9mSIPNrh1",
        "outputId": "f5bb7ec5-ede9-4ac6-a2fc-aeca99c43f34",
        "colab": {
          "base_uri": "https://localhost:8080/"
        }
      },
      "outputs": [
        {
          "output_type": "stream",
          "name": "stdout",
          "text": [
            "=============================================\n",
            "      KALKULATOR INDEKS MASSA TUBUH (BMI)      \n",
            "=============================================\n",
            "Masukkan berat badan Anda (kg): 50\n",
            "Masukkan tinggi badan Anda (cm): 150\n",
            "\n",
            "BMI Anda: 22.22\n",
            "Kategori: Normal\n",
            "Saran   : Pertahankan pola makan sehat dan aktivitas fisik.\n",
            "\n",
            "Apakah Anda ingin keluar? (Y/N): e\n",
            "Input tidak valid! Harap masukkan Y atau N.\n",
            "\n",
            "Apakah Anda ingin keluar? (Y/N): n\n",
            "=============================================\n",
            "      KALKULATOR INDEKS MASSA TUBUH (BMI)      \n",
            "=============================================\n",
            "Masukkan berat badan Anda (kg): q\n",
            "Input tidak valid! Harap masukkan angka.\n",
            "Masukkan berat badan Anda (kg): 55555\n",
            "Masukkan tinggi badan Anda (cm): q\n",
            "Input tidak valid! Harap masukkan angka.\n",
            "Masukkan berat badan Anda (kg): 55555\n",
            "Masukkan tinggi badan Anda (cm): 55555\n",
            "\n",
            "BMI Anda: 0.18\n",
            "Kategori: Berat badan kurang (Underweight)\n",
            "Saran   : Cobalah meningkatkan asupan kalori dan olahraga.\n",
            "\n",
            "Apakah Anda ingin keluar? (Y/N): y\n",
            "\n",
            "==== Terima kasih telah menggunakan kalkulator BMI! ====\n"
          ]
        }
      ],
      "source": [
        "import os  # Mengimpor modul os untuk membersihkan layar\n",
        "\n",
        "def bmi_calculator():\n",
        "    \"\"\"Fungsi untuk menghitung dan menampilkan hasil BMI dengan validasi yang lebih baik.\"\"\"\n",
        "    while True:  # Loop utama, program berjalan terus hingga pengguna memilih keluar\n",
        "        os.system(\"cls\" if os.name == \"nt\" else \"clear\")  # Bersihkan layar\n",
        "\n",
        "        print(\"=\" * 45)\n",
        "        print(\"      KALKULATOR INDEKS MASSA TUBUH (BMI)      \")\n",
        "        print(\"=\" * 45)\n",
        "\n",
        "        while True:  # Loop untuk memastikan input berat dan tinggi valid\n",
        "            try:\n",
        "                berat = float(input(\"Masukkan berat badan Anda (kg): \"))\n",
        "                tinggi_cm = float(input(\"Masukkan tinggi badan Anda (cm): \"))\n",
        "\n",
        "                if berat <= 0 or tinggi_cm <= 0:\n",
        "                    print(\"Berat dan tinggi harus lebih dari 0! Coba lagi.\")\n",
        "                    continue\n",
        "\n",
        "                tinggi_m = tinggi_cm / 100  # Konversi tinggi ke meter\n",
        "                break\n",
        "            except ValueError:\n",
        "                print(\"Input tidak valid! Harap masukkan angka.\")\n",
        "\n",
        "        bmi = berat / (tinggi_m ** 2)  # Menghitung BMI\n",
        "        print(f\"\\nBMI Anda: {bmi:.2f}\")\n",
        "\n",
        "        # Menentukan kategori BMI dan memberi saran\n",
        "        if bmi < 18.5:\n",
        "            print(\"Kategori: Berat badan kurang (Underweight)\")\n",
        "            print(\"Saran   : Cobalah meningkatkan asupan kalori dan olahraga.\")\n",
        "        elif 18.5 <= bmi < 25:\n",
        "            print(\"Kategori: Normal\")\n",
        "            print(\"Saran   : Pertahankan pola makan sehat dan aktivitas fisik.\")\n",
        "        elif 25 <= bmi < 30:\n",
        "            print(\"Kategori: Berat badan berlebih (Overweight)\")\n",
        "            print(\"Saran   : Kurangi makanan berlemak dan tingkatkan olahraga.\")\n",
        "        else:\n",
        "            print(\"Kategori: Obesitas\")\n",
        "            print(\"Saran   : Konsultasikan dengan dokter atau ahli gizi untuk diet sehat.\")\n",
        "\n",
        "        while True:  # Loop untuk input konfirmasi keluar\n",
        "            keluar = input(\"\\nApakah Anda ingin keluar? (Y/N): \").strip().lower()\n",
        "            if keluar in (\"y\", \"n\"):\n",
        "                break\n",
        "            else:\n",
        "                print(\"Input tidak valid! Harap masukkan Y atau N.\")\n",
        "\n",
        "        if keluar == \"y\":\n",
        "            break\n",
        "\n",
        "    print(\"\\n==== Terima kasih telah menggunakan kalkulator BMI! ====\")\n",
        "\n",
        "bmi_calculator()  # Memanggil fungsi untuk menjalankan program\n"
      ]
    }
  ]
}